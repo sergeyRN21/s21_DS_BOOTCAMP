{
 "cells": [
  {
   "cell_type": "markdown",
   "metadata": {},
   "source": [
    "# Day 09. Exercise 03\n",
    "# Ensembles"
   ]
  },
  {
   "cell_type": "markdown",
   "metadata": {},
   "source": [
    "## 0. Imports"
   ]
  },
  {
   "cell_type": "code",
   "execution_count": 1,
   "metadata": {},
   "outputs": [],
   "source": [
    "import pandas as pd\n",
    "from sklearn.model_selection import train_test_split, StratifiedKFold\n",
    "from sklearn.svm import SVC\n",
    "from sklearn.metrics import accuracy_score, precision_score, recall_score\n",
    "from sklearn.tree import DecisionTreeClassifier\n",
    "from sklearn.ensemble import RandomForestClassifier, VotingClassifier, BaggingClassifier, StackingClassifier\n",
    "from sklearn.model_selection import GridSearchCV\n",
    "from sklearn.linear_model import LogisticRegression\n",
    "import numpy as np\n",
    "from sklearn.metrics import confusion_matrix\n",
    "from joblib import dump"
   ]
  },
  {
   "cell_type": "markdown",
   "metadata": {},
   "source": [
    "## 1. Preprocessing"
   ]
  },
  {
   "cell_type": "markdown",
   "metadata": {},
   "source": [
    "1. Create the same dataframe as in the previous exercise.\n",
    "2. Using `train_test_split` with parameters `test_size=0.2`, `random_state=21` get `X_train`, `y_train`, `X_test`, `y_test` and then get `X_train`, `y_train`, `X_valid`, `y_valid` from the previous `X_train`, `y_train`. Use the additional parameter `stratify`."
   ]
  },
  {
   "cell_type": "code",
   "execution_count": 2,
   "metadata": {},
   "outputs": [
    {
     "data": {
      "text/html": [
       "<div>\n",
       "<style scoped>\n",
       "    .dataframe tbody tr th:only-of-type {\n",
       "        vertical-align: middle;\n",
       "    }\n",
       "\n",
       "    .dataframe tbody tr th {\n",
       "        vertical-align: top;\n",
       "    }\n",
       "\n",
       "    .dataframe thead th {\n",
       "        text-align: right;\n",
       "    }\n",
       "</style>\n",
       "<table border=\"1\" class=\"dataframe\">\n",
       "  <thead>\n",
       "    <tr style=\"text-align: right;\">\n",
       "      <th></th>\n",
       "      <th>numTrials</th>\n",
       "      <th>hour</th>\n",
       "      <th>dayofweek</th>\n",
       "      <th>uid_user_0</th>\n",
       "      <th>uid_user_1</th>\n",
       "      <th>uid_user_10</th>\n",
       "      <th>uid_user_11</th>\n",
       "      <th>uid_user_12</th>\n",
       "      <th>uid_user_13</th>\n",
       "      <th>uid_user_14</th>\n",
       "      <th>...</th>\n",
       "      <th>labname_lab02</th>\n",
       "      <th>labname_lab03</th>\n",
       "      <th>labname_lab03s</th>\n",
       "      <th>labname_lab05s</th>\n",
       "      <th>labname_laba04</th>\n",
       "      <th>labname_laba04s</th>\n",
       "      <th>labname_laba05</th>\n",
       "      <th>labname_laba06</th>\n",
       "      <th>labname_laba06s</th>\n",
       "      <th>labname_project1</th>\n",
       "    </tr>\n",
       "  </thead>\n",
       "  <tbody>\n",
       "    <tr>\n",
       "      <th>0</th>\n",
       "      <td>1</td>\n",
       "      <td>5</td>\n",
       "      <td>4</td>\n",
       "      <td>0</td>\n",
       "      <td>0</td>\n",
       "      <td>0</td>\n",
       "      <td>0</td>\n",
       "      <td>0</td>\n",
       "      <td>0</td>\n",
       "      <td>0</td>\n",
       "      <td>...</td>\n",
       "      <td>0</td>\n",
       "      <td>0</td>\n",
       "      <td>0</td>\n",
       "      <td>0</td>\n",
       "      <td>0</td>\n",
       "      <td>0</td>\n",
       "      <td>0</td>\n",
       "      <td>0</td>\n",
       "      <td>0</td>\n",
       "      <td>1</td>\n",
       "    </tr>\n",
       "    <tr>\n",
       "      <th>1</th>\n",
       "      <td>2</td>\n",
       "      <td>5</td>\n",
       "      <td>4</td>\n",
       "      <td>0</td>\n",
       "      <td>0</td>\n",
       "      <td>0</td>\n",
       "      <td>0</td>\n",
       "      <td>0</td>\n",
       "      <td>0</td>\n",
       "      <td>0</td>\n",
       "      <td>...</td>\n",
       "      <td>0</td>\n",
       "      <td>0</td>\n",
       "      <td>0</td>\n",
       "      <td>0</td>\n",
       "      <td>0</td>\n",
       "      <td>0</td>\n",
       "      <td>0</td>\n",
       "      <td>0</td>\n",
       "      <td>0</td>\n",
       "      <td>1</td>\n",
       "    </tr>\n",
       "    <tr>\n",
       "      <th>2</th>\n",
       "      <td>3</td>\n",
       "      <td>5</td>\n",
       "      <td>4</td>\n",
       "      <td>0</td>\n",
       "      <td>0</td>\n",
       "      <td>0</td>\n",
       "      <td>0</td>\n",
       "      <td>0</td>\n",
       "      <td>0</td>\n",
       "      <td>0</td>\n",
       "      <td>...</td>\n",
       "      <td>0</td>\n",
       "      <td>0</td>\n",
       "      <td>0</td>\n",
       "      <td>0</td>\n",
       "      <td>0</td>\n",
       "      <td>0</td>\n",
       "      <td>0</td>\n",
       "      <td>0</td>\n",
       "      <td>0</td>\n",
       "      <td>1</td>\n",
       "    </tr>\n",
       "    <tr>\n",
       "      <th>3</th>\n",
       "      <td>4</td>\n",
       "      <td>5</td>\n",
       "      <td>4</td>\n",
       "      <td>0</td>\n",
       "      <td>0</td>\n",
       "      <td>0</td>\n",
       "      <td>0</td>\n",
       "      <td>0</td>\n",
       "      <td>0</td>\n",
       "      <td>0</td>\n",
       "      <td>...</td>\n",
       "      <td>0</td>\n",
       "      <td>0</td>\n",
       "      <td>0</td>\n",
       "      <td>0</td>\n",
       "      <td>0</td>\n",
       "      <td>0</td>\n",
       "      <td>0</td>\n",
       "      <td>0</td>\n",
       "      <td>0</td>\n",
       "      <td>1</td>\n",
       "    </tr>\n",
       "    <tr>\n",
       "      <th>4</th>\n",
       "      <td>5</td>\n",
       "      <td>5</td>\n",
       "      <td>4</td>\n",
       "      <td>0</td>\n",
       "      <td>0</td>\n",
       "      <td>0</td>\n",
       "      <td>0</td>\n",
       "      <td>0</td>\n",
       "      <td>0</td>\n",
       "      <td>0</td>\n",
       "      <td>...</td>\n",
       "      <td>0</td>\n",
       "      <td>0</td>\n",
       "      <td>0</td>\n",
       "      <td>0</td>\n",
       "      <td>0</td>\n",
       "      <td>0</td>\n",
       "      <td>0</td>\n",
       "      <td>0</td>\n",
       "      <td>0</td>\n",
       "      <td>1</td>\n",
       "    </tr>\n",
       "    <tr>\n",
       "      <th>...</th>\n",
       "      <td>...</td>\n",
       "      <td>...</td>\n",
       "      <td>...</td>\n",
       "      <td>...</td>\n",
       "      <td>...</td>\n",
       "      <td>...</td>\n",
       "      <td>...</td>\n",
       "      <td>...</td>\n",
       "      <td>...</td>\n",
       "      <td>...</td>\n",
       "      <td>...</td>\n",
       "      <td>...</td>\n",
       "      <td>...</td>\n",
       "      <td>...</td>\n",
       "      <td>...</td>\n",
       "      <td>...</td>\n",
       "      <td>...</td>\n",
       "      <td>...</td>\n",
       "      <td>...</td>\n",
       "      <td>...</td>\n",
       "      <td>...</td>\n",
       "    </tr>\n",
       "    <tr>\n",
       "      <th>1681</th>\n",
       "      <td>9</td>\n",
       "      <td>20</td>\n",
       "      <td>3</td>\n",
       "      <td>0</td>\n",
       "      <td>0</td>\n",
       "      <td>0</td>\n",
       "      <td>0</td>\n",
       "      <td>0</td>\n",
       "      <td>0</td>\n",
       "      <td>0</td>\n",
       "      <td>...</td>\n",
       "      <td>0</td>\n",
       "      <td>0</td>\n",
       "      <td>0</td>\n",
       "      <td>0</td>\n",
       "      <td>0</td>\n",
       "      <td>0</td>\n",
       "      <td>0</td>\n",
       "      <td>0</td>\n",
       "      <td>1</td>\n",
       "      <td>0</td>\n",
       "    </tr>\n",
       "    <tr>\n",
       "      <th>1682</th>\n",
       "      <td>6</td>\n",
       "      <td>20</td>\n",
       "      <td>3</td>\n",
       "      <td>0</td>\n",
       "      <td>1</td>\n",
       "      <td>0</td>\n",
       "      <td>0</td>\n",
       "      <td>0</td>\n",
       "      <td>0</td>\n",
       "      <td>0</td>\n",
       "      <td>...</td>\n",
       "      <td>0</td>\n",
       "      <td>0</td>\n",
       "      <td>0</td>\n",
       "      <td>0</td>\n",
       "      <td>0</td>\n",
       "      <td>0</td>\n",
       "      <td>0</td>\n",
       "      <td>0</td>\n",
       "      <td>1</td>\n",
       "      <td>0</td>\n",
       "    </tr>\n",
       "    <tr>\n",
       "      <th>1683</th>\n",
       "      <td>7</td>\n",
       "      <td>20</td>\n",
       "      <td>3</td>\n",
       "      <td>0</td>\n",
       "      <td>1</td>\n",
       "      <td>0</td>\n",
       "      <td>0</td>\n",
       "      <td>0</td>\n",
       "      <td>0</td>\n",
       "      <td>0</td>\n",
       "      <td>...</td>\n",
       "      <td>0</td>\n",
       "      <td>0</td>\n",
       "      <td>0</td>\n",
       "      <td>0</td>\n",
       "      <td>0</td>\n",
       "      <td>0</td>\n",
       "      <td>0</td>\n",
       "      <td>0</td>\n",
       "      <td>1</td>\n",
       "      <td>0</td>\n",
       "    </tr>\n",
       "    <tr>\n",
       "      <th>1684</th>\n",
       "      <td>8</td>\n",
       "      <td>20</td>\n",
       "      <td>3</td>\n",
       "      <td>0</td>\n",
       "      <td>1</td>\n",
       "      <td>0</td>\n",
       "      <td>0</td>\n",
       "      <td>0</td>\n",
       "      <td>0</td>\n",
       "      <td>0</td>\n",
       "      <td>...</td>\n",
       "      <td>0</td>\n",
       "      <td>0</td>\n",
       "      <td>0</td>\n",
       "      <td>0</td>\n",
       "      <td>0</td>\n",
       "      <td>0</td>\n",
       "      <td>0</td>\n",
       "      <td>0</td>\n",
       "      <td>1</td>\n",
       "      <td>0</td>\n",
       "    </tr>\n",
       "    <tr>\n",
       "      <th>1685</th>\n",
       "      <td>9</td>\n",
       "      <td>20</td>\n",
       "      <td>3</td>\n",
       "      <td>0</td>\n",
       "      <td>1</td>\n",
       "      <td>0</td>\n",
       "      <td>0</td>\n",
       "      <td>0</td>\n",
       "      <td>0</td>\n",
       "      <td>0</td>\n",
       "      <td>...</td>\n",
       "      <td>0</td>\n",
       "      <td>0</td>\n",
       "      <td>0</td>\n",
       "      <td>0</td>\n",
       "      <td>0</td>\n",
       "      <td>0</td>\n",
       "      <td>0</td>\n",
       "      <td>0</td>\n",
       "      <td>1</td>\n",
       "      <td>0</td>\n",
       "    </tr>\n",
       "  </tbody>\n",
       "</table>\n",
       "<p>1686 rows × 44 columns</p>\n",
       "</div>"
      ],
      "text/plain": [
       "      numTrials  hour  dayofweek  uid_user_0  uid_user_1  uid_user_10  \\\n",
       "0             1     5          4           0           0            0   \n",
       "1             2     5          4           0           0            0   \n",
       "2             3     5          4           0           0            0   \n",
       "3             4     5          4           0           0            0   \n",
       "4             5     5          4           0           0            0   \n",
       "...         ...   ...        ...         ...         ...          ...   \n",
       "1681          9    20          3           0           0            0   \n",
       "1682          6    20          3           0           1            0   \n",
       "1683          7    20          3           0           1            0   \n",
       "1684          8    20          3           0           1            0   \n",
       "1685          9    20          3           0           1            0   \n",
       "\n",
       "      uid_user_11  uid_user_12  uid_user_13  uid_user_14  ...  labname_lab02  \\\n",
       "0               0            0            0            0  ...              0   \n",
       "1               0            0            0            0  ...              0   \n",
       "2               0            0            0            0  ...              0   \n",
       "3               0            0            0            0  ...              0   \n",
       "4               0            0            0            0  ...              0   \n",
       "...           ...          ...          ...          ...  ...            ...   \n",
       "1681            0            0            0            0  ...              0   \n",
       "1682            0            0            0            0  ...              0   \n",
       "1683            0            0            0            0  ...              0   \n",
       "1684            0            0            0            0  ...              0   \n",
       "1685            0            0            0            0  ...              0   \n",
       "\n",
       "      labname_lab03  labname_lab03s  labname_lab05s  labname_laba04  \\\n",
       "0                 0               0               0               0   \n",
       "1                 0               0               0               0   \n",
       "2                 0               0               0               0   \n",
       "3                 0               0               0               0   \n",
       "4                 0               0               0               0   \n",
       "...             ...             ...             ...             ...   \n",
       "1681              0               0               0               0   \n",
       "1682              0               0               0               0   \n",
       "1683              0               0               0               0   \n",
       "1684              0               0               0               0   \n",
       "1685              0               0               0               0   \n",
       "\n",
       "      labname_laba04s  labname_laba05  labname_laba06  labname_laba06s  \\\n",
       "0                   0               0               0                0   \n",
       "1                   0               0               0                0   \n",
       "2                   0               0               0                0   \n",
       "3                   0               0               0                0   \n",
       "4                   0               0               0                0   \n",
       "...               ...             ...             ...              ...   \n",
       "1681                0               0               0                1   \n",
       "1682                0               0               0                1   \n",
       "1683                0               0               0                1   \n",
       "1684                0               0               0                1   \n",
       "1685                0               0               0                1   \n",
       "\n",
       "      labname_project1  \n",
       "0                    1  \n",
       "1                    1  \n",
       "2                    1  \n",
       "3                    1  \n",
       "4                    1  \n",
       "...                ...  \n",
       "1681                 0  \n",
       "1682                 0  \n",
       "1683                 0  \n",
       "1684                 0  \n",
       "1685                 0  \n",
       "\n",
       "[1686 rows x 44 columns]"
      ]
     },
     "execution_count": 2,
     "metadata": {},
     "output_type": "execute_result"
    }
   ],
   "source": [
    "df = pd.read_csv('../dataset/day-of-week-not-scaled.csv')\n",
    "df"
   ]
  },
  {
   "cell_type": "code",
   "execution_count": 3,
   "metadata": {},
   "outputs": [],
   "source": [
    "X = df.drop('dayofweek', axis=1)\n",
    "y = df['dayofweek']\n",
    "X_train, X_test, y_train, y_test = train_test_split(X, y, test_size=0.2, random_state=21, stratify=y)"
   ]
  },
  {
   "cell_type": "markdown",
   "metadata": {},
   "source": [
    "Здесь параметр stratify=y используется для того, чтобы сохранить пропорцию классов в целевой переменной при разбиении данных."
   ]
  },
  {
   "cell_type": "code",
   "execution_count": 4,
   "metadata": {},
   "outputs": [],
   "source": [
    "XX = X_train.copy()\n",
    "yy = y_train.copy()\n",
    "X_train, X_valid, y_train, y_valid = train_test_split(XX, yy, test_size=0.2, random_state=21, stratify=yy)"
   ]
  },
  {
   "cell_type": "markdown",
   "metadata": {},
   "source": [
    "После этого нужно дополнительно разделить тренировочный набор на две части: новую тренировочную часть и валидационную часть. Это делается для оценки модели на данных, которые модель еще не видела после обучения на основной тренировочной выборке.\n",
    "\n",
    "В этом случае test_size=0.2 означает, что 20% от исходного тренировочного набора будет использовано для валидации."
   ]
  },
  {
   "cell_type": "markdown",
   "metadata": {},
   "source": [
    "Valid (валидация) – это процесс проверки качества модели на промежуточных этапах обучения. Валидационная выборка (X_valid) используется для контроля за тем, насколько хорошо модель обобщает данные, которых она ранее не видела. Это помогает избежать переобучения и недоучивания модели."
   ]
  },
  {
   "cell_type": "markdown",
   "metadata": {},
   "source": [
    "## 2. Individual classifiers"
   ]
  },
  {
   "cell_type": "markdown",
   "metadata": {},
   "source": [
    "1. Train SVM, decision tree and random forest again with the best parameters that you got from the 01 exercise with `random_state=21` for all of them.\n",
    "2. Evaluate `accuracy`, `precision`, and `recall` for them on the validation set.\n",
    "3. The result of each cell of the section should look like this:\n",
    "\n",
    "```\n",
    "accuracy is 0.87778\n",
    "precision is 0.88162\n",
    "recall is 0.87778\n",
    "```"
   ]
  },
  {
   "cell_type": "code",
   "execution_count": 5,
   "metadata": {},
   "outputs": [
    {
     "name": "stdout",
     "output_type": "stream",
     "text": [
      "SVM:\n",
      "accuracy is 0.87778\n",
      "precision is 0.88162\n",
      "recall is 0.87778\n",
      "\n"
     ]
    }
   ],
   "source": [
    "svc = SVC(C=10, gamma='auto', probability=True, random_state=21, kernel='rbf')\n",
    "svc.fit(X_train, y_train)\n",
    "svm_preds = svc.predict(X_valid)\n",
    "\n",
    "print(\"SVM:\")\n",
    "print(f\"accuracy is {accuracy_score(y_valid, svm_preds):.5f}\")\n",
    "print(f\"precision is {precision_score(y_valid, svm_preds, average='weighted'):.5f}\")\n",
    "print(f\"recall is {recall_score(y_valid, svm_preds, average='weighted'):.5f}\\n\")"
   ]
  },
  {
   "cell_type": "code",
   "execution_count": 6,
   "metadata": {},
   "outputs": [
    {
     "name": "stdout",
     "output_type": "stream",
     "text": [
      "Tree:\n",
      "accuracy is 0.86667\n",
      "precision is 0.86984\n",
      "recall is 0.86667\n",
      "\n"
     ]
    }
   ],
   "source": [
    "dtc = DecisionTreeClassifier(max_depth=22, class_weight='balanced', random_state=21, criterion='gini')\n",
    "dtc.fit(X_train, y_train)\n",
    "dts_preds = dtc.predict(X_valid)\n",
    "\n",
    "print(\"Tree:\")\n",
    "print(f\"accuracy is {accuracy_score(y_valid, dts_preds):.5f}\")\n",
    "print(f\"precision is {precision_score(y_valid, dts_preds, average='weighted'):.5f}\")\n",
    "print(f\"recall is {recall_score(y_valid, dts_preds, average='weighted'):.5f}\\n\")"
   ]
  },
  {
   "cell_type": "code",
   "execution_count": 7,
   "metadata": {},
   "outputs": [
    {
     "name": "stdout",
     "output_type": "stream",
     "text": [
      "RandomForestClassifier\n",
      "accuracy is 0.89259\n",
      "precision is 0.89361\n",
      "recall is 0.89259\n",
      "\n"
     ]
    }
   ],
   "source": [
    "rfc = RandomForestClassifier(n_estimators=50, max_depth=28, random_state=21, criterion='gini')\n",
    "rfc.fit(X_train, y_train)\n",
    "rfc_preds = rfc.predict(X_valid)\n",
    "\n",
    "print(\"RandomForestClassifier\")\n",
    "print(f\"accuracy is {accuracy_score(y_valid, rfc_preds):.5f}\")\n",
    "print(f\"precision is {precision_score(y_valid, rfc_preds, average='weighted'):.5f}\")\n",
    "print(f\"recall is {recall_score(y_valid, rfc_preds, average='weighted'):.5f}\\n\")"
   ]
  },
  {
   "cell_type": "markdown",
   "metadata": {},
   "source": [
    "## 3. Voting classifiers"
   ]
  },
  {
   "cell_type": "markdown",
   "metadata": {},
   "source": [
    "1. Using `VotingClassifier` and the three models that you have just trained, calculate the `accuracy`, `precision`, and `recall` on the validation set.\n",
    "2. Play with the other parameteres.\n",
    "3. Calculate the `accuracy`, `precision` and `recall` on the test set for the model with the best weights in terms of accuracy (if there are several of them with equal values, choose the one with the higher precision)."
   ]
  },
  {
   "cell_type": "markdown",
   "metadata": {},
   "source": [
    "VotingClassifier — это класс в библиотеке Scikit-learn, который реализует технику ансамблевого обучения, известную как голосование. Эта техника объединяет прогнозы нескольких базовых моделей для получения окончательного результата. Основное преимущество использования VotingClassifier заключается в том, что он может улучшить общую точность классификации путем комбинирования сильных сторон различных алгоритмов машинного обучения."
   ]
  },
  {
   "cell_type": "code",
   "execution_count": 8,
   "metadata": {},
   "outputs": [],
   "source": [
    "vc = VotingClassifier(estimators=[('svc', svc), ('tree', dtc), ('forest', rfc)], voting='hard', verbose=True)"
   ]
  },
  {
   "cell_type": "code",
   "execution_count": 9,
   "metadata": {},
   "outputs": [
    {
     "name": "stdout",
     "output_type": "stream",
     "text": [
      "[Voting] ...................... (1 of 3) Processing svc, total=   0.4s\n",
      "[Voting] ..................... (2 of 3) Processing tree, total=   0.0s\n",
      "[Voting] ................... (3 of 3) Processing forest, total=   0.1s\n",
      "Accuracy: 0.89630\n",
      "Precision: 0.89605\n",
      "Recall: 0.89630\n"
     ]
    }
   ],
   "source": [
    "vc.fit(X_train, y_train)\n",
    "preds = vc.predict(X_valid)\n",
    "print(f\"Accuracy: {accuracy_score(y_valid, preds):.5f}\")\n",
    "print(f\"Precision: {precision_score(y_valid, preds, average='weighted'):.5f}\")\n",
    "print(f\"Recall: {recall_score(y_valid, preds, average='weighted'):.5f}\")"
   ]
  },
  {
   "cell_type": "code",
   "execution_count": 10,
   "metadata": {},
   "outputs": [
    {
     "name": "stdout",
     "output_type": "stream",
     "text": [
      "Best weights found: (1, 2, 2) with Accuracy: 0.90370, Precision: 0.90802\n"
     ]
    }
   ],
   "source": [
    "weights = [(1, 2, 2), (2, 1, 1), (1, 2, 1), (1, 1, 2)]\n",
    "best_acc = 0\n",
    "best_weights = None\n",
    "best_prec = 0\n",
    "models = [\n",
    "    ('svm', svc),\n",
    "    ('dt', dtc),\n",
    "    ('rf', rfc)\n",
    "]\n",
    "\n",
    "for w in weights:\n",
    "    voting_clf = VotingClassifier(estimators=models, voting='hard', weights=w)\n",
    "    voting_clf.fit(X_train, y_train)\n",
    "    \n",
    "    preds = voting_clf.predict(X_valid)\n",
    "    acc = accuracy_score(y_valid, preds)\n",
    "    prec = precision_score(y_valid, preds, average='macro')\n",
    "    \n",
    "    if acc > best_acc or (acc == best_acc and prec > best_prec):\n",
    "        best_acc = acc\n",
    "        best_prec = prec\n",
    "        best_weights = w\n",
    "\n",
    "print(f\"Best weights found: {best_weights} with Accuracy: {best_acc:.5f}, Precision: {best_prec:.5f}\")"
   ]
  },
  {
   "cell_type": "code",
   "execution_count": 11,
   "metadata": {},
   "outputs": [
    {
     "name": "stdout",
     "output_type": "stream",
     "text": [
      "Final Results on Test Set:\n",
      "Accuracy: 0.91716, Precision: 0.91767, Recall: 0.90344\n"
     ]
    }
   ],
   "source": [
    "# Применяем лучшую модель на тестовом наборе\n",
    "voting_clf = VotingClassifier(estimators=models, voting='hard', weights=best_weights)\n",
    "voting_clf.fit(X_train, y_train)\n",
    "\n",
    "# Прогнозируем на тестовом наборе\n",
    "final_preds = voting_clf.predict(X_test)\n",
    "\n",
    "# Оцениваем финальные метрики на тестовом наборе\n",
    "final_acc = accuracy_score(y_test, final_preds)\n",
    "final_prec = precision_score(y_test, final_preds, average='macro')\n",
    "final_rec = recall_score(y_test, final_preds, average='macro')\n",
    "\n",
    "print(\"Final Results on Test Set:\")\n",
    "print(f\"Accuracy: {final_acc:.5f}, Precision: {final_prec:.5f}, Recall: {final_rec:.5f}\")"
   ]
  },
  {
   "cell_type": "markdown",
   "metadata": {},
   "source": [
    "## 4. Bagging classifiers"
   ]
  },
  {
   "cell_type": "markdown",
   "metadata": {},
   "source": [
    "1. Using `BaggingClassifier` and `SVM` with the best parameters create an ensemble, try different values of the `n_estimators`, use `random_state=21`.\n",
    "2. Play with the other parameters.\n",
    "3. Calculate the `accuracy`, `precision`, and `recall` for the model with the best parameters (in terms of accuracy) on the test set (if there are several of them with equal values, choose the one with the higher precision)"
   ]
  },
  {
   "cell_type": "code",
   "execution_count": 12,
   "metadata": {},
   "outputs": [
    {
     "name": "stdout",
     "output_type": "stream",
     "text": [
      "Accuracy: 0.86391\n",
      "Precision: 0.86966\n",
      "Recall: 0.86391\n"
     ]
    }
   ],
   "source": [
    "svc = SVC(C=10, gamma='auto', probability=True, random_state=21, kernel='rbf')\n",
    "bc = BaggingClassifier(estimator=svc, n_estimators=10, random_state=21)\n",
    "bc.fit(X_train, y_train)\n",
    "y_pred = bc.predict(X_test)\n",
    "print(f\"Accuracy: {accuracy_score(y_test, y_pred):.5f}\")\n",
    "print(f\"Precision: {precision_score(y_test, y_pred, average='weighted'):.5f}\")\n",
    "print(f\"Recall: {recall_score(y_test, y_pred, average='weighted'):.5f}\")"
   ]
  },
  {
   "cell_type": "code",
   "execution_count": 13,
   "metadata": {},
   "outputs": [
    {
     "name": "stdout",
     "output_type": "stream",
     "text": [
      "Fitting 5 folds for each of 12 candidates, totalling 60 fits\n",
      "лучшие параметры: {'bootstrap': False, 'n_estimators': 30, 'warm_start': True}\n",
      "лучший score: 0.8431955211024977\n",
      "Accuracy: 0.88757\n",
      "Precision: 0.88906\n",
      "Recall: 0.88757\n"
     ]
    }
   ],
   "source": [
    "param_grid = {'n_estimators': [10, 30, 50],\n",
    "             'warm_start': [True, False],\n",
    "             'bootstrap': [True, False]}\n",
    "\n",
    "gs = GridSearchCV(bc, param_grid, scoring='accuracy', n_jobs=-1, verbose=2)\n",
    "gs.fit(X_train, y_train)\n",
    "print(f'лучшие параметры: {gs.best_params_}')\n",
    "print(f'лучший score: {gs.best_score_}')\n",
    "y_pred = gs.predict(X_test)\n",
    "print(f\"Accuracy: {accuracy_score(y_test, y_pred):.5f}\")\n",
    "print(f\"Precision: {precision_score(y_test, y_pred, average='weighted'):.5f}\")\n",
    "print(f\"Recall: {recall_score(y_test, y_pred, average='weighted'):.5f}\")"
   ]
  },
  {
   "cell_type": "markdown",
   "metadata": {},
   "source": [
    "## 5. Stacking classifiers"
   ]
  },
  {
   "cell_type": "markdown",
   "metadata": {},
   "source": [
    "1. To achieve reproducibility in this case you will have to create an object of cross-validation generator: `StratifiedKFold(n_splits=n, shuffle=True, random_state=21)`, where `n` you will try to optimize (the details are below).\n",
    "2. Using `StackingClassifier` and the three models that you have recently trained, calculate the `accuracy`, `precision` and `recall` on the validation set, try different values of `n_splits` `[2, 3, 4, 5, 6, 7]` in the cross-validation generator and parameter `passthrough` in the classifier itself,\n",
    "3. Calculate the `accuracy`, `precision`, and `recall` for the model with the best parameters (in terms of accuracy) on the test set (if there are several of them with equal values, choose the one with the higher precision). Use `final_estimator=LogisticRegression(solver='liblinear')`."
   ]
  },
  {
   "cell_type": "code",
   "execution_count": 14,
   "metadata": {},
   "outputs": [
    {
     "name": "stdout",
     "output_type": "stream",
     "text": [
      "Best params: n_splits=5, passthrough=False\n",
      "Accuracy: 0.9148, Precision: 0.9221, Recall: 0.9123\n"
     ]
    }
   ],
   "source": [
    "def evaluate_stacking_classifier(n_splits, passthrough):\n",
    "    # Создаем генератор кросс-валидации\n",
    "    cv_generator = StratifiedKFold(n_splits=n_splits, shuffle=True, random_state=21)\n",
    "    \n",
    "    # Создаем стекинг-классификатор\n",
    "    stacking_clf = StackingClassifier(\n",
    "        estimators=models,\n",
    "        final_estimator=LogisticRegression(solver='liblinear'),\n",
    "        cv=cv_generator,\n",
    "        passthrough=passthrough\n",
    "    )\n",
    "    \n",
    "    # Обучаем классификатор на тренировочном наборе данных\n",
    "    stacking_clf.fit(X_train, y_train)\n",
    "    \n",
    "    # Делаем предсказания на валидном наборе данных\n",
    "    y_pred = stacking_clf.predict(X_valid)\n",
    "    \n",
    "    # Вычисляем метрики\n",
    "    accuracy = accuracy_score(y_valid, y_pred)\n",
    "    precision = precision_score(y_valid, y_pred, average='macro')\n",
    "    recall = recall_score(y_valid, y_pred, average='macro')\n",
    "    \n",
    "    return accuracy, precision, recall\n",
    "\n",
    "# Пробуем различные комбинации параметров\n",
    "results = []\n",
    "for n_splits in [2, 3, 4, 5, 6, 7]:\n",
    "    for passthrough in [True, False]:\n",
    "        accuracy, precision, recall = evaluate_stacking_classifier(n_splits, passthrough)\n",
    "        results.append((n_splits, passthrough, accuracy, precision, recall))\n",
    "        \n",
    "# Находим наилучшие параметры по точности\n",
    "best_result = max(results, key=lambda x: x[2])\n",
    "print(f'Best params: n_splits={best_result[0]}, passthrough={best_result[1]}')\n",
    "print(f'Accuracy: {best_result[2]:.4f}, Precision: {best_result[3]:.4f}, Recall: {best_result[4]:.4f}')"
   ]
  },
  {
   "cell_type": "code",
   "execution_count": 15,
   "metadata": {},
   "outputs": [
    {
     "name": "stdout",
     "output_type": "stream",
     "text": [
      "Test Accuracy: 0.9320, Test Precision: 0.9335, Test Recall: 0.9148\n"
     ]
    }
   ],
   "source": [
    "stacking_clf_best = StackingClassifier(\n",
    "    estimators=models,\n",
    "    final_estimator=LogisticRegression(solver='liblinear'),\n",
    "    cv=StratifiedKFold(n_splits=best_result[0], shuffle=True, random_state=21),\n",
    "    passthrough=best_result[1]\n",
    ")\n",
    "\n",
    "# Обучаем модель на объединенных тренировочных и валидных данных\n",
    "stacking_clf_best.fit(pd.concat([X_train, X_valid]), pd.concat([y_train, y_valid]))\n",
    "\n",
    "# Делаем предсказания на тестовом наборе данных\n",
    "y_pred_test = stacking_clf_best.predict(X_test)\n",
    "\n",
    "# Вычисляем метрики на тестовом наборе\n",
    "test_accuracy = accuracy_score(y_test, y_pred_test)\n",
    "test_precision = precision_score(y_test, y_pred_test, average='macro')\n",
    "test_recall = recall_score(y_test, y_pred_test, average='macro')\n",
    "\n",
    "print(f'Test Accuracy: {test_accuracy:.4f}, Test Precision: {test_precision:.4f}, Test Recall: {test_recall:.4f}')"
   ]
  },
  {
   "cell_type": "markdown",
   "metadata": {},
   "source": [
    "## 6. Predictions"
   ]
  },
  {
   "cell_type": "markdown",
   "metadata": {},
   "source": [
    "1. Choose the best model in terms of accuracy (if there are several of them with equal values, choose the one with the higher precision).\n",
    "2. Analyze: for which weekday your model makes the most errors (in % of the total number of samples of that class in your full dataset), for which labname and for which users.\n",
    "3. Save the model."
   ]
  },
  {
   "cell_type": "code",
   "execution_count": 16,
   "metadata": {},
   "outputs": [
    {
     "data": {
      "text/plain": [
       "array([[21,  0,  1,  0,  1,  1,  3],\n",
       "       [ 0, 51,  1,  2,  0,  1,  0],\n",
       "       [ 0,  0, 28,  2,  0,  0,  0],\n",
       "       [ 1,  0,  0, 77,  0,  1,  1],\n",
       "       [ 0,  0,  0,  0, 19,  2,  0],\n",
       "       [ 0,  0,  0,  2,  1, 50,  1],\n",
       "       [ 0,  0,  0,  1,  0,  1, 69]], dtype=int64)"
      ]
     },
     "execution_count": 16,
     "metadata": {},
     "output_type": "execute_result"
    }
   ],
   "source": [
    "y_pred = stacking_clf_best.predict(X_test)\n",
    "\n",
    "# Получение матрицы неточностей\n",
    "cm = confusion_matrix(y_test, y_pred)\n",
    "cm"
   ]
  },
  {
   "cell_type": "code",
   "execution_count": 17,
   "metadata": {},
   "outputs": [
    {
     "name": "stdout",
     "output_type": "stream",
     "text": [
      "Days with highest error rates:\n",
      "Mon: 22.22%\n",
      "Fri: 9.52%\n",
      "Sat: 7.41%\n",
      "Tue: 7.27%\n",
      "Wed: 6.67%\n",
      "Thu: 3.75%\n",
      "Sun: 2.82%\n"
     ]
    }
   ],
   "source": [
    "df_cm = pd.DataFrame(cm, index=['Mon', 'Tue', 'Wed', 'Thu', 'Fri', 'Sat', 'Sun'],\n",
    "                     columns=['Mon', 'Tue', 'Wed', 'Thu', 'Fri', 'Sat', 'Sun'])\n",
    "\n",
    "# Рассчитываем долю ошибок для каждого класса\n",
    "total_samples_per_class = cm.sum(axis=1)\n",
    "error_rates = {}\n",
    "for i, day in enumerate(['Mon', 'Tue', 'Wed', 'Thu', 'Fri', 'Sat', 'Sun']):\n",
    "    correct_predictions = cm[i][i]\n",
    "    error_rate = (total_samples_per_class[i] - correct_predictions) / total_samples_per_class[i]\n",
    "    error_rates[day] = error_rate * 100\n",
    "\n",
    "# Сортировка дней по убыванию доли ошибок\n",
    "sorted_error_rates = sorted(error_rates.items(), key=lambda x: -x[1])\n",
    "\n",
    "print(\"Days with highest error rates:\")\n",
    "for day, rate in sorted_error_rates:\n",
    "    print(f\"{day}: {rate:.2f}%\")"
   ]
  },
  {
   "cell_type": "code",
   "execution_count": 18,
   "metadata": {},
   "outputs": [
    {
     "data": {
      "text/plain": [
       "['best_model.joblib']"
      ]
     },
     "execution_count": 18,
     "metadata": {},
     "output_type": "execute_result"
    }
   ],
   "source": [
    "dump(stacking_clf_best, 'best_model.joblib')"
   ]
  }
 ],
 "metadata": {
  "kernelspec": {
   "display_name": "base",
   "language": "python",
   "name": "python3"
  },
  "language_info": {
   "codemirror_mode": {
    "name": "ipython",
    "version": 3
   },
   "file_extension": ".py",
   "mimetype": "text/x-python",
   "name": "python",
   "nbconvert_exporter": "python",
   "pygments_lexer": "ipython3",
   "version": "3.12.7"
  }
 },
 "nbformat": 4,
 "nbformat_minor": 4
}
