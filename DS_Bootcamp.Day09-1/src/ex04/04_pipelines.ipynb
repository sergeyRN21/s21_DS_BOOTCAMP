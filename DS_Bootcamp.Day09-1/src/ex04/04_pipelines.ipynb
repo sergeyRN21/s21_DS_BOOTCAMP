{
 "cells": [
  {
   "cell_type": "markdown",
   "metadata": {},
   "source": [
    "# Day 09. Exercise 04\n",
    "# Pipelines and OOP"
   ]
  },
  {
   "cell_type": "markdown",
   "metadata": {},
   "source": [
    "## 0. Imports"
   ]
  },
  {
   "cell_type": "code",
   "execution_count": 154,
   "metadata": {},
   "outputs": [],
   "source": [
    "import pandas as pd\n",
    "from sklearn.preprocessing import OneHotEncoder\n",
    "from sklearn.compose import ColumnTransformer\n",
    "import numpy as np\n",
    "from sklearn.model_selection import train_test_split\n",
    "from sklearn.model_selection import GridSearchCV\n",
    "from sklearn.metrics import accuracy_score\n",
    "from tqdm.notebook import tqdm\n",
    "from sklearn.svm import SVC\n",
    "import joblib\n",
    "from sklearn.pipeline import Pipeline\n",
    "from sklearn.linear_model import LogisticRegression\n",
    "from sklearn.tree import DecisionTreeClassifier\n",
    "from sklearn.ensemble import RandomForestClassifier"
   ]
  },
  {
   "cell_type": "markdown",
   "metadata": {},
   "source": [
    "## 1. Preprocessing pipeline"
   ]
  },
  {
   "cell_type": "markdown",
   "metadata": {},
   "source": [
    "Create three custom transformers, the first two out of which will be used within a [Pipeline](https://scikit-learn.org/stable/modules/generated/sklearn.pipeline.Pipeline.html).\n",
    "\n",
    "1. `FeatureExtractor()` class:\n",
    " - Takes a dataframe with `uid`, `labname`, `numTrials`, `timestamp` from the file [`checker_submits.csv`](https://drive.google.com/file/d/14voc4fNJZiLEFaZyd8nEG-lQt5JjatYw/view?usp=sharing).\n",
    " - Extracts `hour` from `timestamp`.\n",
    " - Extracts `weekday` from `timestamp` (numbers).\n",
    " - Drops the `timestamp` column.\n",
    " - Returns the new dataframe.\n",
    "\n",
    "\n",
    "2. `MyOneHotEncoder()` class:\n",
    " - Takes the dataframe from the result of the previous transformation and the name of the target column.\n",
    " - Identifies all the categorical features and transforms them with `OneHotEncoder()`. If the target column is categorical too, then the transformation should not apply to it.\n",
    " - Drops the initial categorical features.\n",
    " - Returns the dataframe with the features and the series with the target column.\n",
    "\n",
    "\n",
    "3. `TrainValidationTest()` class:\n",
    " - Takes `X` and `y`.\n",
    " - Returns `X_train`, `X_valid`, `X_test`, `y_train`, `y_valid`, `y_test` (`test_size=0.2`, `random_state=21`, `stratified`).\n"
   ]
  },
  {
   "cell_type": "code",
   "execution_count": 155,
   "metadata": {},
   "outputs": [],
   "source": [
    "class FeatureExtractor:\n",
    "    def __init__(self):\n",
    "        pass\n",
    "\n",
    "    def fit(self, X, y=None):\n",
    "        return self\n",
    "\n",
    "    def transform(self, X):\n",
    "        if 'timestamp' not in X.columns:\n",
    "            raise ValueError(\"The 'timestamp' column is required for feature extraction.\")\n",
    "        \n",
    "        X['timestamp'] = pd.to_datetime(X['timestamp'])\n",
    "        \n",
    "        X['hour'] = X['timestamp'].dt.hour\n",
    "        X['weekday'] = X['timestamp'].dt.weekday\n",
    "        \n",
    "        X = X.drop(columns=['timestamp'], errors='ignore')\n",
    "        \n",
    "        \n",
    "        return X"
   ]
  },
  {
   "cell_type": "code",
   "execution_count": 156,
   "metadata": {},
   "outputs": [],
   "source": [
    "class MyOneHotEncoder:\n",
    "    def __init__(self, target_column):\n",
    "        self.target_column = target_column\n",
    "        self.encoder = OneHotEncoder(sparse_output=False, handle_unknown='ignore')\n",
    "\n",
    "    def fit(self, X, y=None):\n",
    "        categorical_cols = X.select_dtypes(include=['object', 'category']).columns.tolist()\n",
    "        categorical_cols = [col for col in categorical_cols if col != self.target_column]\n",
    "        \n",
    "        if not categorical_cols:\n",
    "            raise ValueError(\"No categorical columns found to encode.\")\n",
    "        \n",
    "        self.encoder.fit(X[categorical_cols])\n",
    "        return self\n",
    "\n",
    "    def transform(self, X):\n",
    "        if self.target_column not in X.columns:\n",
    "            raise ValueError(f\"Target column '{self.target_column}' not found in the input DataFrame.\")\n",
    "        \n",
    "        categorical_cols = X.select_dtypes(include=['object', 'category']).columns.tolist()\n",
    "        categorical_cols = [col for col in categorical_cols if col != self.target_column]\n",
    "        \n",
    "        if not categorical_cols:\n",
    "            raise ValueError(\"No categorical columns found to encode.\")\n",
    "        \n",
    "        encoded_features = self.encoder.transform(X[categorical_cols])\n",
    "        \n",
    "        X = X.drop(columns=categorical_cols, errors='ignore')\n",
    "        \n",
    "        encoded_feature_names = self.encoder.get_feature_names_out(categorical_cols)\n",
    "        \n",
    "        X_encoded = pd.DataFrame(encoded_features, columns=encoded_feature_names, index=X.index)\n",
    "        X = pd.concat([X, X_encoded], axis=1)\n",
    "        \n",
    "        y = X.pop(self.target_column)  \n",
    "        \n",
    "        return X, y"
   ]
  },
  {
   "cell_type": "code",
   "execution_count": 157,
   "metadata": {},
   "outputs": [],
   "source": [
    "class TrainValidationTest:\n",
    "    def __init__(self, test_size=0.2, random_state=21):\n",
    "        self.test_size = test_size\n",
    "        self.random_state = random_state\n",
    "\n",
    "    def split(self, X, y):\n",
    "        X_train_val, X_test, y_train_val, y_test = train_test_split(\n",
    "            X, y, test_size=self.test_size, random_state=self.random_state, stratify=y\n",
    "        )\n",
    "        \n",
    "        X_train, X_valid, y_train, y_valid = train_test_split(\n",
    "            X_train_val, y_train_val, test_size=self.test_size, random_state=self.random_state, stratify=y_train_val\n",
    "        )\n",
    "        \n",
    "        return X_train, X_valid, X_test, y_train, y_valid, y_test"
   ]
  },
  {
   "cell_type": "markdown",
   "metadata": {},
   "source": [
    "## 2. Model selection pipeline"
   ]
  },
  {
   "cell_type": "markdown",
   "metadata": {},
   "source": [
    "`ModelSelection()` class\n",
    "\n",
    " - Takes a list of `GridSearchCV` instances and a dict where the keys are the indexes from that list and the values are the names of the models, the example is below in the reverse order (from high-level to low-level perspective):\n",
    "\n",
    "```\n",
    "ModelSelection(grids, grid_dict)\n",
    "\n",
    "grids = [gs_svm, gs_tree, gs_rf]\n",
    "\n",
    "gs_svm = GridSearchCV(estimator=svm, param_grid=svm_params, scoring='accuracy', cv=2, n_jobs=jobs), where jobs you can specify by yourself\n",
    "\n",
    "svm_params = [{'kernel':('linear', 'rbf', 'sigmoid'), 'C':[0.01, 0.1, 1, 1.5, 5, 10], 'gamma': ['scale', 'auto'], 'class_weight':('balanced', None), 'random_state':[21], 'probability':[True]}]\n",
    "```\n",
    "\n",
    " - Method `choose()` takes `X_train`, `y_train`, `X_valid`, `y_valid` and returns the name of the best classifier among all the models on the validation set\n",
    " - Method `best_results()` returns a dataframe with the columns `model`, `params`, `valid_score` where the rows are the best models within each class of models.\n",
    "\n",
    "```\n",
    "model\tparams\tvalid_score\n",
    "0\tSVM\t{'C': 10, 'class_weight': None, 'gamma': 'auto...\t0.772727\n",
    "1\tDecision Tree\t{'class_weight': 'balanced', 'criterion': 'gin...\t0.801484\n",
    "2\tRandom Forest\t{'class_weight': None, 'criterion': 'entropy',...\t0.855288\n",
    "```\n",
    "\n",
    " - When you iterate through the parameters of a model class, print the name of that class and show the progress using `tqdm.notebook`, in the end of the cycle print the best model of that class.\n",
    "\n",
    "```\n",
    "Estimator: SVM\n",
    "100%\n",
    "125/125 [01:32<00:00, 1.36it/s]\n",
    "Best params: {'C': 10, 'class_weight': None, 'gamma': 'auto', 'kernel': 'rbf', 'probability': True, 'random_state': 21}\n",
    "Best training accuracy: 0.773\n",
    "Validation set accuracy score for best params: 0.878 \n",
    "\n",
    "Estimator: Decision Tree\n",
    "100%\n",
    "57/57 [01:07<00:00, 1.22it/s]\n",
    "Best params: {'class_weight': 'balanced', 'criterion': 'gini', 'max_depth': 21, 'random_state': 21}\n",
    "Best training accuracy: 0.801\n",
    "Validation set accuracy score for best params: 0.867 \n",
    "\n",
    "Estimator: Random Forest\n",
    "100%\n",
    "284/284 [06:47<00:00, 1.13s/it]\n",
    "Best params: {'class_weight': None, 'criterion': 'entropy', 'max_depth': 22, 'n_estimators': 50, 'random_state': 21}\n",
    "Best training accuracy: 0.855\n",
    "Validation set accuracy score for best params: 0.907 \n",
    "\n",
    "Classifier with best validation set accuracy: Random Forest\n",
    "```"
   ]
  },
  {
   "cell_type": "code",
   "execution_count": 158,
   "metadata": {},
   "outputs": [],
   "source": [
    "class ModelSelection:\n",
    "    def __init__(self, grids, grid_dict):\n",
    "        self.grids = grids\n",
    "        self.grid_dict = grid_dict\n",
    "        self.best_models = []\n",
    "\n",
    "    def choose(self, X_train, y_train, X_valid, y_valid):\n",
    "        best_score = 0\n",
    "        best_model_name = None\n",
    "        \n",
    "        for i, grid in enumerate(self.grids):\n",
    "            model_name = self.grid_dict[i]\n",
    "            print(f\"Estimator: {model_name}\")\n",
    "            \n",
    "            grid.fit(X_train, y_train)\n",
    "            \n",
    "            best_params = grid.best_params_\n",
    "            train_score = grid.best_score_\n",
    "            \n",
    "            valid_score = grid.score(X_valid, y_valid)\n",
    "            \n",
    "            total_iterations = len(grid.cv_results_['mean_test_score'])\n",
    "            for _ in tqdm(range(total_iterations), desc=f\"{model_name} Progress\", leave=False):\n",
    "                pass\n",
    "            \n",
    "            print(f\"Best params: {best_params}\")\n",
    "            print(f\"Best training accuracy: {train_score:.3f}\")\n",
    "            print(f\"Validation set accuracy score for best params: {valid_score:.3f}\\n\")\n",
    "            \n",
    "            self.best_models.append({\n",
    "                'model': model_name,\n",
    "                'params': best_params,\n",
    "                'valid_score': valid_score\n",
    "            })\n",
    "            \n",
    "            if valid_score > best_score:\n",
    "                best_score = valid_score\n",
    "                best_model_name = model_name\n",
    "        \n",
    "        print(f\"Classifier with best validation set accuracy: {best_model_name}\")\n",
    "        return best_model_name\n",
    "\n",
    "    def best_results(self):\n",
    "        return pd.DataFrame(self.best_models)"
   ]
  },
  {
   "cell_type": "markdown",
   "metadata": {},
   "source": [
    "## 3. Finalization"
   ]
  },
  {
   "cell_type": "markdown",
   "metadata": {},
   "source": [
    "`Finalize()` class\n",
    " - Takes an estimator.\n",
    " - Method `final_score()` takes `X_train`, `y_train`, `X_test`, `y_test` and returns the accuracy of the model as in the example below:\n",
    "```\n",
    "final.final_score(X_train, y_train, X_test, y_test)\n",
    "Accuracy of the final model is 0.908284023668639\n",
    "```\n",
    " - Method `save_model()` takes a path, saves the model to this path and prints that the model was successfully saved."
   ]
  },
  {
   "cell_type": "code",
   "execution_count": 159,
   "metadata": {},
   "outputs": [],
   "source": [
    "class Finalize:\n",
    "    def __init__(self, estimator):\n",
    "        self.estimator = estimator\n",
    "\n",
    "    def final_score(self, X_train, y_train, X_test, y_test):\n",
    "        self.estimator.fit(X_train, y_train)\n",
    "\n",
    "        test_accuracy = self.estimator.score(X_test, y_test)\n",
    "\n",
    "        print(f\"Accuracy of the final model is {test_accuracy:.12f}\")\n",
    "        return test_accuracy\n",
    "\n",
    "    def save_model(self, path):\n",
    "        joblib.dump(self.estimator, path)\n",
    "        print(f\"The model was successfully saved to {path}\")"
   ]
  },
  {
   "cell_type": "markdown",
   "metadata": {},
   "source": [
    "## 4. Main program"
   ]
  },
  {
   "cell_type": "markdown",
   "metadata": {},
   "source": [
    "1. Load the data from the file (****name of file****).\n",
    "2. Create the preprocessing pipeline that consists of two custom transformers: `FeatureExtractor()` and `MyOneHotEncoder()`:\n",
    "```\n",
    "preprocessing = Pipeline([('feature_extractor', FeatureExtractor()), ('onehot_encoder', MyOneHotEncoder('dayofweek'))])\n",
    "```\n",
    "3. Use that pipeline and its method `fit_transform()` on the initial dataset.\n",
    "```\n",
    "data = preprocessing.fit_transform(df)\n",
    "```\n",
    "4. Get `X_train`, `X_valid`, `X_test`, `y_train`, `y_valid`, `y_test` using `TrainValidationTest()` and the result of the pipeline.\n",
    "5. Create an instance of `ModelSelection()`, use the method `choose()` applying it to the models that you want and parameters that you want, get the dataframe of the best results.\n",
    "6. create an instance of `Finalize()` with your best model, use method `final_score()` and save the model in the format: `name_of_the_model_{accuracy on test dataset}.sav`.\n",
    "\n",
    "That is it, congrats!"
   ]
  },
  {
   "cell_type": "code",
   "execution_count": 160,
   "metadata": {},
   "outputs": [],
   "source": [
    "df = pd.read_csv('../dataset/checker_submits.csv')"
   ]
  },
  {
   "cell_type": "code",
   "execution_count": 161,
   "metadata": {},
   "outputs": [],
   "source": [
    "preprocessing = Pipeline([\n",
    "    ('feature_extractor', FeatureExtractor()),\n",
    "    ('onehot_encoder', MyOneHotEncoder('weekday'))\n",
    "])"
   ]
  },
  {
   "cell_type": "code",
   "execution_count": 162,
   "metadata": {},
   "outputs": [],
   "source": [
    "data, target = preprocessing.fit_transform(df)"
   ]
  },
  {
   "cell_type": "code",
   "execution_count": 163,
   "metadata": {},
   "outputs": [],
   "source": [
    "splitter = TrainValidationTest(test_size=0.2, random_state=21)\n",
    "X_train, X_valid, X_test, y_train, y_valid, y_test = splitter.split(data, target)\n"
   ]
  },
  {
   "cell_type": "code",
   "execution_count": 164,
   "metadata": {},
   "outputs": [],
   "source": [
    "svm = SVC()\n",
    "svm_params = {\n",
    "    'kernel': ['linear', 'rbf', 'sigmoid'],\n",
    "    'C': [0.01, 0.1, 1, 10],\n",
    "    'gamma': ['scale', 'auto'],\n",
    "    'class_weight': ['balanced', None],\n",
    "    'random_state': [21],\n",
    "    'probability': [True]\n",
    "}\n",
    "\n",
    "tree = DecisionTreeClassifier()\n",
    "tree_params = {\n",
    "    'criterion': ['gini', 'entropy'],\n",
    "    'max_depth': [None, 10, 20, 30],\n",
    "    'class_weight': ['balanced', None],\n",
    "    'random_state': [21]\n",
    "}\n",
    "\n",
    "rf = RandomForestClassifier()\n",
    "rf_params = {\n",
    "    'n_estimators': [50, 100],\n",
    "    'criterion': ['gini', 'entropy'],\n",
    "    'max_depth': [None, 20, 30],\n",
    "    'class_weight': ['balanced', None],\n",
    "    'random_state': [21]\n",
    "}\n"
   ]
  },
  {
   "cell_type": "code",
   "execution_count": 165,
   "metadata": {},
   "outputs": [
    {
     "name": "stdout",
     "output_type": "stream",
     "text": [
      "Estimator: SVM\n"
     ]
    },
    {
     "data": {
      "application/vnd.jupyter.widget-view+json": {
       "model_id": "00574152c5e642459312d51fe1717282",
       "version_major": 2,
       "version_minor": 0
      },
      "text/plain": [
       "SVM Progress:   0%|          | 0/48 [00:00<?, ?it/s]"
      ]
     },
     "metadata": {},
     "output_type": "display_data"
    },
    {
     "name": "stdout",
     "output_type": "stream",
     "text": [
      "Best params: {'C': 10, 'class_weight': None, 'gamma': 'auto', 'kernel': 'rbf', 'probability': True, 'random_state': 21}\n",
      "Best training accuracy: 0.773\n",
      "Validation set accuracy score for best params: 0.878\n",
      "\n",
      "Estimator: Decision Tree\n"
     ]
    },
    {
     "data": {
      "application/vnd.jupyter.widget-view+json": {
       "model_id": "690b654740d14f29b93e759c5501233a",
       "version_major": 2,
       "version_minor": 0
      },
      "text/plain": [
       "Decision Tree Progress:   0%|          | 0/16 [00:00<?, ?it/s]"
      ]
     },
     "metadata": {},
     "output_type": "display_data"
    },
    {
     "name": "stdout",
     "output_type": "stream",
     "text": [
      "Best params: {'class_weight': 'balanced', 'criterion': 'gini', 'max_depth': None, 'random_state': 21}\n",
      "Best training accuracy: 0.807\n",
      "Validation set accuracy score for best params: 0.863\n",
      "\n",
      "Estimator: Random Forest\n"
     ]
    },
    {
     "data": {
      "application/vnd.jupyter.widget-view+json": {
       "model_id": "a4aed17e64204c89ae9ffa49d5aa8ecb",
       "version_major": 2,
       "version_minor": 0
      },
      "text/plain": [
       "Random Forest Progress:   0%|          | 0/24 [00:00<?, ?it/s]"
      ]
     },
     "metadata": {},
     "output_type": "display_data"
    },
    {
     "name": "stdout",
     "output_type": "stream",
     "text": [
      "Best params: {'class_weight': None, 'criterion': 'gini', 'max_depth': None, 'n_estimators': 100, 'random_state': 21}\n",
      "Best training accuracy: 0.853\n",
      "Validation set accuracy score for best params: 0.896\n",
      "\n",
      "Classifier with best validation set accuracy: Random Forest\n",
      "Best Results DataFrame:\n",
      "           model                                             params  \\\n",
      "0            SVM  {'C': 10, 'class_weight': None, 'gamma': 'auto...   \n",
      "1  Decision Tree  {'class_weight': 'balanced', 'criterion': 'gin...   \n",
      "2  Random Forest  {'class_weight': None, 'criterion': 'gini', 'm...   \n",
      "\n",
      "   valid_score  \n",
      "0     0.877778  \n",
      "1     0.862963  \n",
      "2     0.896296  \n",
      "Accuracy of the final model is 0.908284023669\n",
      "The model was successfully saved to Random_Forest_0.90828.sav\n",
      "Model saved as: Random_Forest_0.90828.sav\n"
     ]
    }
   ],
   "source": [
    "\n",
    "gs_svm = GridSearchCV(estimator=svm, param_grid=svm_params, scoring='accuracy', cv=2, n_jobs=-1)\n",
    "gs_tree = GridSearchCV(estimator=tree, param_grid=tree_params, scoring='accuracy', cv=2, n_jobs=-1)\n",
    "gs_rf = GridSearchCV(estimator=rf, param_grid=rf_params, scoring='accuracy', cv=2, n_jobs=-1)\n",
    "\n",
    "grids = [gs_svm, gs_tree, gs_rf]\n",
    "grid_dict = {0: 'SVM', 1: 'Decision Tree', 2: 'Random Forest'}\n",
    "\n",
    "model_selection = ModelSelection(grids, grid_dict)\n",
    "\n",
    "best_model_name = model_selection.choose(X_train, y_train, X_valid, y_valid)\n",
    "\n",
    "best_results_df = model_selection.best_results()\n",
    "print(\"Best Results DataFrame:\")\n",
    "print(best_results_df)\n",
    "\n",
    "if best_model_name == 'SVM':\n",
    "    best_model = gs_svm.best_estimator_\n",
    "elif best_model_name == 'Decision Tree':\n",
    "    best_model = gs_tree.best_estimator_\n",
    "elif best_model_name == 'Random Forest':\n",
    "    best_model = gs_rf.best_estimator_\n",
    "\n",
    "final = Finalize(best_model)\n",
    "\n",
    "test_accuracy = final.final_score(X_train, y_train, X_test, y_test)\n",
    "\n",
    "model_filename = f\"{best_model_name.replace(' ', '_')}_{test_accuracy:.5f}.sav\"\n",
    "final.save_model(model_filename)\n",
    "\n",
    "print(f\"Model saved as: {model_filename}\")"
   ]
  }
 ],
 "metadata": {
  "kernelspec": {
   "display_name": "base",
   "language": "python",
   "name": "python3"
  },
  "language_info": {
   "codemirror_mode": {
    "name": "ipython",
    "version": 3
   },
   "file_extension": ".py",
   "mimetype": "text/x-python",
   "name": "python",
   "nbconvert_exporter": "python",
   "pygments_lexer": "ipython3",
   "version": "3.12.7"
  }
 },
 "nbformat": 4,
 "nbformat_minor": 4
}
