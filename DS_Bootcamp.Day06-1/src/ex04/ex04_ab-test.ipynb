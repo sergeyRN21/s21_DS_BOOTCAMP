{
 "cells": [
  {
   "cell_type": "code",
   "execution_count": 1,
   "id": "2f67c7ea-177f-4595-a359-fdb5569b23de",
   "metadata": {},
   "outputs": [],
   "source": [
    "import pandas as pd\n",
    "import sqlite3"
   ]
  },
  {
   "cell_type": "markdown",
   "id": "a15f3688-b587-4de8-9ef0-27988a110c05",
   "metadata": {},
   "source": [
    "<h2>Подключение к БД</h2>"
   ]
  },
  {
   "cell_type": "code",
   "execution_count": 2,
   "id": "fdfc0f37-9877-4431-a5e3-e49758bf6c16",
   "metadata": {},
   "outputs": [
    {
     "data": {
      "text/plain": [
       "<sqlite3.Connection at 0x22d843ced40>"
      ]
     },
     "execution_count": 2,
     "metadata": {},
     "output_type": "execute_result"
    }
   ],
   "source": [
    "conn = sqlite3.connect('../data/checking-logs.sqlite')\n",
    "conn"
   ]
  },
  {
   "cell_type": "markdown",
   "id": "300bd703-1f6d-4933-ad1c-3d30f2a01f98",
   "metadata": {},
   "source": [
    "<h2>Используя только один запрос для каждой из групп, создайте два фрейма данных: test_results и control_results со столбцами time и avg_diff и только двумя строками</h2>"
   ]
  },
  {
   "cell_type": "markdown",
   "id": "bd42a31c-dcfd-4ddc-b5d7-d8384a47afb4",
   "metadata": {},
   "source": [
    "- время должно иметь значения: после и до\n",
    "- avg_diff содержит среднюю дельту для всех пользователей за период до того, как каждый из них впервые посетил страницу, и после\n",
    "- учитывайте только тех пользователей, у которых есть наблюдения до и после"
   ]
  },
  {
   "cell_type": "code",
   "execution_count": 3,
   "id": "02842a1f-0261-4a14-baa7-5bb756f9615f",
   "metadata": {},
   "outputs": [
    {
     "data": {
      "text/html": [
       "<div>\n",
       "<style scoped>\n",
       "    .dataframe tbody tr th:only-of-type {\n",
       "        vertical-align: middle;\n",
       "    }\n",
       "\n",
       "    .dataframe tbody tr th {\n",
       "        vertical-align: top;\n",
       "    }\n",
       "\n",
       "    .dataframe thead th {\n",
       "        text-align: right;\n",
       "    }\n",
       "</style>\n",
       "<table border=\"1\" class=\"dataframe\">\n",
       "  <thead>\n",
       "    <tr style=\"text-align: right;\">\n",
       "      <th></th>\n",
       "      <th>time</th>\n",
       "      <th>avg_diff</th>\n",
       "    </tr>\n",
       "  </thead>\n",
       "  <tbody>\n",
       "    <tr>\n",
       "      <th>0</th>\n",
       "      <td>after</td>\n",
       "      <td>104.6000</td>\n",
       "    </tr>\n",
       "    <tr>\n",
       "      <th>1</th>\n",
       "      <td>before</td>\n",
       "      <td>60.5625</td>\n",
       "    </tr>\n",
       "  </tbody>\n",
       "</table>\n",
       "</div>"
      ],
      "text/plain": [
       "     time  avg_diff\n",
       "0   after  104.6000\n",
       "1  before   60.5625"
      ]
     },
     "execution_count": 3,
     "metadata": {},
     "output_type": "execute_result"
    }
   ],
   "source": [
    "query = '''\n",
    "SELECT time,\n",
    "       avg(diff) AS avg_diff\n",
    "FROM (SELECT uid,\n",
    "             CAST( (JulianDay(datetime(deadlines.deadlines, 'unixepoch')) -\n",
    "                    JulianDay(test.first_commit_ts)\n",
    "                    ) * 24 as Integer\n",
    "                  ) as diff,\n",
    "             CASE WHEN test.first_commit_ts < test.first_view_ts THEN 'before'\n",
    "             ELSE 'after' END AS time\n",
    "       FROM test left join deadlines on test.labname = deadlines.labs\n",
    "       WHERE labname <> 'project1'\n",
    "      )\n",
    "WHERE uid in (SELECT uid\n",
    "              FROM (SELECT uid,\n",
    "                           CASE WHEN test.first_commit_ts < test.first_view_ts THEN 'before'\n",
    "                           ELSE 'after' END as time\n",
    "                    FROM test\n",
    "                    LEFT JOIN deadlines ON test.labname=deadlines.labs\n",
    "                    WHERE labname <> 'project1'\n",
    "                    )\n",
    "               GROUP BY uid\n",
    "               HAVING COUNT(DISTINCT time)=2\n",
    "               )\n",
    "GROUP BY time\n",
    "'''\n",
    "test_results = pd.io.sql.read_sql(query, conn)\n",
    "test_results"
   ]
  },
  {
   "cell_type": "code",
   "execution_count": 4,
   "id": "94af30d4-a26b-4ba6-9fb5-6b862db21bb0",
   "metadata": {},
   "outputs": [
    {
     "data": {
      "text/html": [
       "<div>\n",
       "<style scoped>\n",
       "    .dataframe tbody tr th:only-of-type {\n",
       "        vertical-align: middle;\n",
       "    }\n",
       "\n",
       "    .dataframe tbody tr th {\n",
       "        vertical-align: top;\n",
       "    }\n",
       "\n",
       "    .dataframe thead th {\n",
       "        text-align: right;\n",
       "    }\n",
       "</style>\n",
       "<table border=\"1\" class=\"dataframe\">\n",
       "  <thead>\n",
       "    <tr style=\"text-align: right;\">\n",
       "      <th></th>\n",
       "      <th>time</th>\n",
       "      <th>avg_diff</th>\n",
       "    </tr>\n",
       "  </thead>\n",
       "  <tbody>\n",
       "    <tr>\n",
       "      <th>0</th>\n",
       "      <td>after</td>\n",
       "      <td>117.636364</td>\n",
       "    </tr>\n",
       "    <tr>\n",
       "      <th>1</th>\n",
       "      <td>before</td>\n",
       "      <td>99.464286</td>\n",
       "    </tr>\n",
       "  </tbody>\n",
       "</table>\n",
       "</div>"
      ],
      "text/plain": [
       "     time    avg_diff\n",
       "0   after  117.636364\n",
       "1  before   99.464286"
      ]
     },
     "execution_count": 4,
     "metadata": {},
     "output_type": "execute_result"
    }
   ],
   "source": [
    "query = '''\n",
    "SELECT time,\n",
    "       avg(diff) AS avg_diff\n",
    "FROM (SELECT uid,\n",
    "             CAST( (JulianDay(datetime(deadlines.deadlines, 'unixepoch')) -\n",
    "                    JulianDay(control.first_commit_ts)\n",
    "                    ) * 24 as Integer\n",
    "                  ) as diff,\n",
    "             CASE WHEN control.first_commit_ts < control.first_view_ts THEN 'before'\n",
    "             ELSE 'after'\n",
    "             END AS time\n",
    "             FROM control\n",
    "             LEFT JOIN deadlines ON control.labname=deadlines.labs\n",
    "             WHERE labname <> 'project1'\n",
    "      )\n",
    "WHERE uid IN (SELECT uid\n",
    "              FROM (SELECT uid,\n",
    "                           CASE WHEN control.first_commit_ts < control.first_view_ts THEN 'before'\n",
    "                           ELSE 'after'\n",
    "                           END AS time\n",
    "                    FROM control\n",
    "                    LEFT JOIN deadlines ON control.labname=deadlines.labs\n",
    "                    WHERE labname <> 'project1'\n",
    "                    )\n",
    "              GROUP BY uid\n",
    "              HAVING COUNT(distinct time)=2\n",
    "              )\n",
    "GROUP BY time\n",
    "'''\n",
    "control_results = pd.io.sql.read_sql(query, conn)\n",
    "control_results"
   ]
  },
  {
   "cell_type": "markdown",
   "id": "57c7ddc0-40b7-4b7b-9aca-09759572b912",
   "metadata": {},
   "source": [
    "<h2>Закрытие соединения</h2>"
   ]
  },
  {
   "cell_type": "code",
   "execution_count": 5,
   "id": "3cadd680-c8d9-4ffe-ac2a-1f731ae43485",
   "metadata": {},
   "outputs": [],
   "source": [
    "conn.close()"
   ]
  }
 ],
 "metadata": {
  "kernelspec": {
   "display_name": "base",
   "language": "python",
   "name": "python3"
  },
  "language_info": {
   "codemirror_mode": {
    "name": "ipython",
    "version": 3
   },
   "file_extension": ".py",
   "mimetype": "text/x-python",
   "name": "python",
   "nbconvert_exporter": "python",
   "pygments_lexer": "ipython3",
   "version": "3.12.7"
  }
 },
 "nbformat": 4,
 "nbformat_minor": 5
}
