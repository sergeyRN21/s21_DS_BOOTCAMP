{
 "cells": [
  {
   "cell_type": "code",
   "execution_count": 10,
   "id": "b3c45bdb-0068-48c4-a925-08802df22ae7",
   "metadata": {},
   "outputs": [],
   "source": [
    "import pandas as pd\n",
    "import sqlite3"
   ]
  },
  {
   "cell_type": "markdown",
   "id": "ed8f0fc3-7df9-4a5a-8ed0-5152056de464",
   "metadata": {},
   "source": [
    "<h2>Создайте подключение к базе данных с помощью библиотеки sqlite3</h2>"
   ]
  },
  {
   "cell_type": "code",
   "execution_count": 11,
   "id": "537d7965-9280-4733-9ace-18c7d6e6bb09",
   "metadata": {},
   "outputs": [
    {
     "data": {
      "text/plain": [
       "<sqlite3.Connection at 0x16bf691f880>"
      ]
     },
     "execution_count": 11,
     "metadata": {},
     "output_type": "execute_result"
    }
   ],
   "source": [
    "conn = sqlite3.connect('../data/checking-logs.sqlite')\n",
    "conn"
   ]
  },
  {
   "cell_type": "code",
   "execution_count": 12,
   "id": "2ffc9181-5250-46f0-a81e-49afd479ed56",
   "metadata": {},
   "outputs": [
    {
     "data": {
      "text/html": [
       "<div>\n",
       "<style scoped>\n",
       "    .dataframe tbody tr th:only-of-type {\n",
       "        vertical-align: middle;\n",
       "    }\n",
       "\n",
       "    .dataframe tbody tr th {\n",
       "        vertical-align: top;\n",
       "    }\n",
       "\n",
       "    .dataframe thead th {\n",
       "        text-align: right;\n",
       "    }\n",
       "</style>\n",
       "<table border=\"1\" class=\"dataframe\">\n",
       "  <thead>\n",
       "    <tr style=\"text-align: right;\">\n",
       "      <th></th>\n",
       "      <th>index</th>\n",
       "      <th>status</th>\n",
       "      <th>success</th>\n",
       "      <th>timestamp</th>\n",
       "      <th>numTrials</th>\n",
       "      <th>labname</th>\n",
       "      <th>uid</th>\n",
       "    </tr>\n",
       "  </thead>\n",
       "  <tbody>\n",
       "    <tr>\n",
       "      <th>0</th>\n",
       "      <td>0</td>\n",
       "      <td>checking</td>\n",
       "      <td>0</td>\n",
       "      <td>2020-04-16 21:12:50.740474</td>\n",
       "      <td>5</td>\n",
       "      <td>None</td>\n",
       "      <td>admin_1</td>\n",
       "    </tr>\n",
       "    <tr>\n",
       "      <th>1</th>\n",
       "      <td>1</td>\n",
       "      <td>ready</td>\n",
       "      <td>0</td>\n",
       "      <td>2020-04-16 21:12:54.708365</td>\n",
       "      <td>5</td>\n",
       "      <td>code_rvw</td>\n",
       "      <td>admin_1</td>\n",
       "    </tr>\n",
       "    <tr>\n",
       "      <th>2</th>\n",
       "      <td>2</td>\n",
       "      <td>checking</td>\n",
       "      <td>0</td>\n",
       "      <td>2020-04-16 21:46:47.769088</td>\n",
       "      <td>7</td>\n",
       "      <td>None</td>\n",
       "      <td>admin_1</td>\n",
       "    </tr>\n",
       "    <tr>\n",
       "      <th>3</th>\n",
       "      <td>3</td>\n",
       "      <td>ready</td>\n",
       "      <td>0</td>\n",
       "      <td>2020-04-16 21:46:48.121217</td>\n",
       "      <td>7</td>\n",
       "      <td>lab02</td>\n",
       "      <td>admin_1</td>\n",
       "    </tr>\n",
       "    <tr>\n",
       "      <th>4</th>\n",
       "      <td>4</td>\n",
       "      <td>checking</td>\n",
       "      <td>0</td>\n",
       "      <td>2020-04-16 21:53:01.862637</td>\n",
       "      <td>6</td>\n",
       "      <td>code_rvw</td>\n",
       "      <td>admin_1</td>\n",
       "    </tr>\n",
       "  </tbody>\n",
       "</table>\n",
       "</div>"
      ],
      "text/plain": [
       "   index    status  success                   timestamp  numTrials   labname  \\\n",
       "0      0  checking        0  2020-04-16 21:12:50.740474          5      None   \n",
       "1      1     ready        0  2020-04-16 21:12:54.708365          5  code_rvw   \n",
       "2      2  checking        0  2020-04-16 21:46:47.769088          7      None   \n",
       "3      3     ready        0  2020-04-16 21:46:48.121217          7     lab02   \n",
       "4      4  checking        0  2020-04-16 21:53:01.862637          6  code_rvw   \n",
       "\n",
       "       uid  \n",
       "0  admin_1  \n",
       "1  admin_1  \n",
       "2  admin_1  \n",
       "3  admin_1  \n",
       "4  admin_1  "
      ]
     },
     "execution_count": 12,
     "metadata": {},
     "output_type": "execute_result"
    }
   ],
   "source": [
    "pd.io.sql.read_sql('select * from checker limit 5', conn)"
   ]
  },
  {
   "cell_type": "code",
   "execution_count": 13,
   "id": "539c9555-8409-47d5-b407-b9cde1d0a588",
   "metadata": {},
   "outputs": [
    {
     "data": {
      "text/html": [
       "<div>\n",
       "<style scoped>\n",
       "    .dataframe tbody tr th:only-of-type {\n",
       "        vertical-align: middle;\n",
       "    }\n",
       "\n",
       "    .dataframe tbody tr th {\n",
       "        vertical-align: top;\n",
       "    }\n",
       "\n",
       "    .dataframe thead th {\n",
       "        text-align: right;\n",
       "    }\n",
       "</style>\n",
       "<table border=\"1\" class=\"dataframe\">\n",
       "  <thead>\n",
       "    <tr style=\"text-align: right;\">\n",
       "      <th></th>\n",
       "      <th>index</th>\n",
       "      <th>uid</th>\n",
       "      <th>datetime</th>\n",
       "    </tr>\n",
       "  </thead>\n",
       "  <tbody>\n",
       "    <tr>\n",
       "      <th>0</th>\n",
       "      <td>0</td>\n",
       "      <td>admin_1</td>\n",
       "      <td>2020-04-17 12:01:08.463179</td>\n",
       "    </tr>\n",
       "    <tr>\n",
       "      <th>1</th>\n",
       "      <td>1</td>\n",
       "      <td>admin_1</td>\n",
       "      <td>2020-04-17 12:01:23.743946</td>\n",
       "    </tr>\n",
       "    <tr>\n",
       "      <th>2</th>\n",
       "      <td>2</td>\n",
       "      <td>admin_3</td>\n",
       "      <td>2020-04-17 12:17:39.287778</td>\n",
       "    </tr>\n",
       "    <tr>\n",
       "      <th>3</th>\n",
       "      <td>3</td>\n",
       "      <td>admin_3</td>\n",
       "      <td>2020-04-17 12:17:40.001768</td>\n",
       "    </tr>\n",
       "    <tr>\n",
       "      <th>4</th>\n",
       "      <td>4</td>\n",
       "      <td>admin_1</td>\n",
       "      <td>2020-04-17 12:27:30.646665</td>\n",
       "    </tr>\n",
       "  </tbody>\n",
       "</table>\n",
       "</div>"
      ],
      "text/plain": [
       "   index      uid                    datetime\n",
       "0      0  admin_1  2020-04-17 12:01:08.463179\n",
       "1      1  admin_1  2020-04-17 12:01:23.743946\n",
       "2      2  admin_3  2020-04-17 12:17:39.287778\n",
       "3      3  admin_3  2020-04-17 12:17:40.001768\n",
       "4      4  admin_1  2020-04-17 12:27:30.646665"
      ]
     },
     "execution_count": 13,
     "metadata": {},
     "output_type": "execute_result"
    }
   ],
   "source": [
    "pd.io.sql.read_sql('select * from pageviews limit 5', conn)"
   ]
  },
  {
   "cell_type": "markdown",
   "id": "4bc70442-294a-4b0b-a7ab-c7501d2d0315",
   "metadata": {},
   "source": [
    "<h2>создайте новую таблицу в базе данных, объединив таблицы «Просмотр страниц» и «Проверка» с помощью всего одного запроса</h2>"
   ]
  },
  {
   "cell_type": "markdown",
   "id": "a020b67a-9eea-4987-a465-1336de3637be",
   "metadata": {},
   "source": [
    "- таблица должна иметь следующие столбцы: uid, labname, first_commit_ts, first_view_ts.\n",
    "- first_commit_ts — это просто новое имя временной метки столбца из таблицы проверки, оно показывает первый коммит из конкретной лаборатории и от конкретного пользователя.\n",
    "- first_view_ts — первое посещение пользователем таблицы просмотров страниц, временная метка, когда пользователь посетил ленту новостей.\n",
    "- status = 'готово' все равно должен быть фильтром\n",
    "- numTrials = 1 все равно должно быть фильтром\n",
    "- имена лабораторий по-прежнему должны быть из списка: «laba04», «laba04s», «laba05», «laba06», «laba06s», «project1».\n",
    "- таблица должна содержать только пользователей (uid с user_*), а не администраторов\n",
    "- first_commit_ts и first_view_ts следует анализировать как datetime64[ns]"
   ]
  },
  {
   "cell_type": "code",
   "execution_count": 14,
   "id": "c1a16cca-0be9-458a-838f-b476106c1cb3",
   "metadata": {},
   "outputs": [
    {
     "data": {
      "text/html": [
       "<div>\n",
       "<style scoped>\n",
       "    .dataframe tbody tr th:only-of-type {\n",
       "        vertical-align: middle;\n",
       "    }\n",
       "\n",
       "    .dataframe tbody tr th {\n",
       "        vertical-align: top;\n",
       "    }\n",
       "\n",
       "    .dataframe thead th {\n",
       "        text-align: right;\n",
       "    }\n",
       "</style>\n",
       "<table border=\"1\" class=\"dataframe\">\n",
       "  <thead>\n",
       "    <tr style=\"text-align: right;\">\n",
       "      <th></th>\n",
       "      <th>uid</th>\n",
       "      <th>labname</th>\n",
       "      <th>first_commit_ts</th>\n",
       "      <th>first_view_ts</th>\n",
       "    </tr>\n",
       "  </thead>\n",
       "  <tbody>\n",
       "    <tr>\n",
       "      <th>0</th>\n",
       "      <td>user_4</td>\n",
       "      <td>project1</td>\n",
       "      <td>2020-04-17 05:19:02.744528</td>\n",
       "      <td>NaT</td>\n",
       "    </tr>\n",
       "    <tr>\n",
       "      <th>1</th>\n",
       "      <td>user_4</td>\n",
       "      <td>laba04</td>\n",
       "      <td>2020-04-17 11:33:17.366400</td>\n",
       "      <td>NaT</td>\n",
       "    </tr>\n",
       "    <tr>\n",
       "      <th>2</th>\n",
       "      <td>user_4</td>\n",
       "      <td>laba04s</td>\n",
       "      <td>2020-04-17 11:48:41.992466</td>\n",
       "      <td>NaT</td>\n",
       "    </tr>\n",
       "    <tr>\n",
       "      <th>3</th>\n",
       "      <td>user_17</td>\n",
       "      <td>project1</td>\n",
       "      <td>2020-04-18 07:56:45.408648</td>\n",
       "      <td>2020-04-18 10:56:55.833899</td>\n",
       "    </tr>\n",
       "    <tr>\n",
       "      <th>4</th>\n",
       "      <td>user_30</td>\n",
       "      <td>laba04</td>\n",
       "      <td>2020-04-18 13:36:53.971502</td>\n",
       "      <td>2020-04-17 22:46:26.785035</td>\n",
       "    </tr>\n",
       "    <tr>\n",
       "      <th>...</th>\n",
       "      <td>...</td>\n",
       "      <td>...</td>\n",
       "      <td>...</td>\n",
       "      <td>...</td>\n",
       "    </tr>\n",
       "    <tr>\n",
       "      <th>135</th>\n",
       "      <td>user_23</td>\n",
       "      <td>laba06</td>\n",
       "      <td>2020-05-21 08:34:10.517205</td>\n",
       "      <td>NaT</td>\n",
       "    </tr>\n",
       "    <tr>\n",
       "      <th>136</th>\n",
       "      <td>user_19</td>\n",
       "      <td>laba06s</td>\n",
       "      <td>2020-05-21 13:27:06.705881</td>\n",
       "      <td>2020-04-21 20:30:38.034966</td>\n",
       "    </tr>\n",
       "    <tr>\n",
       "      <th>137</th>\n",
       "      <td>user_23</td>\n",
       "      <td>laba06s</td>\n",
       "      <td>2020-05-21 14:29:15.709568</td>\n",
       "      <td>NaT</td>\n",
       "    </tr>\n",
       "    <tr>\n",
       "      <th>138</th>\n",
       "      <td>user_17</td>\n",
       "      <td>laba06</td>\n",
       "      <td>2020-05-21 15:21:31.567615</td>\n",
       "      <td>2020-04-18 10:56:55.833899</td>\n",
       "    </tr>\n",
       "    <tr>\n",
       "      <th>139</th>\n",
       "      <td>user_17</td>\n",
       "      <td>laba06s</td>\n",
       "      <td>2020-05-21 17:39:17.783615</td>\n",
       "      <td>2020-04-18 10:56:55.833899</td>\n",
       "    </tr>\n",
       "  </tbody>\n",
       "</table>\n",
       "<p>140 rows × 4 columns</p>\n",
       "</div>"
      ],
      "text/plain": [
       "         uid   labname            first_commit_ts              first_view_ts\n",
       "0     user_4  project1 2020-04-17 05:19:02.744528                        NaT\n",
       "1     user_4    laba04 2020-04-17 11:33:17.366400                        NaT\n",
       "2     user_4   laba04s 2020-04-17 11:48:41.992466                        NaT\n",
       "3    user_17  project1 2020-04-18 07:56:45.408648 2020-04-18 10:56:55.833899\n",
       "4    user_30    laba04 2020-04-18 13:36:53.971502 2020-04-17 22:46:26.785035\n",
       "..       ...       ...                        ...                        ...\n",
       "135  user_23    laba06 2020-05-21 08:34:10.517205                        NaT\n",
       "136  user_19   laba06s 2020-05-21 13:27:06.705881 2020-04-21 20:30:38.034966\n",
       "137  user_23   laba06s 2020-05-21 14:29:15.709568                        NaT\n",
       "138  user_17    laba06 2020-05-21 15:21:31.567615 2020-04-18 10:56:55.833899\n",
       "139  user_17   laba06s 2020-05-21 17:39:17.783615 2020-04-18 10:56:55.833899\n",
       "\n",
       "[140 rows x 4 columns]"
      ]
     },
     "execution_count": 14,
     "metadata": {},
     "output_type": "execute_result"
    }
   ],
   "source": [
    "query = \"\"\"\n",
    "SELECT checker.uid,\n",
    "       checker.labname,\n",
    "       checker.timestamp as first_commit_ts,\n",
    "       pageviews.datetime as first_view_ts\n",
    "FROM \n",
    "    checker\n",
    "LEFT JOIN \n",
    "    pageviews \n",
    "ON \n",
    "    checker.uid=pageviews.uid\n",
    "WHERE \n",
    "    status='ready'\n",
    "AND numTrials=1\n",
    "AND labname IN ('laba04', 'laba04s', 'laba05', 'laba06', 'laba06s', 'project1')\n",
    "AND checker.uid LIKE 'user_%'\n",
    "AND (pageviews.datetime = (SELECT MIN(pageviews.datetime)\n",
    "                           FROM pageviews\n",
    "                           WHERE uid=checker.uid)\n",
    "                    OR pageviews.datetime IS NULL)\n",
    "\"\"\"\n",
    "data = pd.io.sql.read_sql(query, conn, parse_dates = ['first_commit_ts', 'first_view_ts'])\n",
    "data"
   ]
  },
  {
   "cell_type": "markdown",
   "id": "c5a36a36-6a56-4e36-ab71-477d5fb42163",
   "metadata": {},
   "source": [
    "<h2>Используя методы Pandas, создайте два фрейма данных: тестовый и контрольный</h2>"
   ]
  },
  {
   "cell_type": "markdown",
   "id": "2e507bcf-7eab-4ee6-947e-589eb54c9a58",
   "metadata": {},
   "source": [
    "- у теста должны быть пользователи, у которых есть значения в first_view_ts\n",
    "- у элемента управления должны быть пользователи, у которых в first_view_ts отсутствуют значения\n",
    "- замените отсутствующие значения в контрольной группе средним значением first_view_ts тестовых пользователей, мы будем использовать это значение для дальнейшего анализа\n",
    "- сохраните обе таблицы в базе данных, вы будете использовать их в следующих упражнениях"
   ]
  },
  {
   "cell_type": "code",
   "execution_count": 15,
   "id": "f901a8d7-fb01-4173-b77f-b63c7da44fbb",
   "metadata": {},
   "outputs": [],
   "source": [
    "test = data[data['first_view_ts'].notnull()]\n",
    "control = data[data['first_view_ts'].isnull()]\n",
    "control = control.fillna(test['first_view_ts'].mean())"
   ]
  },
  {
   "cell_type": "code",
   "execution_count": 16,
   "id": "4ec2a4b2-e030-4ec0-8423-03c75bb6db09",
   "metadata": {},
   "outputs": [
    {
     "name": "stdout",
     "output_type": "stream",
     "text": [
      "<class 'pandas.core.frame.DataFrame'>\n",
      "Index: 59 entries, 3 to 139\n",
      "Data columns (total 4 columns):\n",
      " #   Column           Non-Null Count  Dtype         \n",
      "---  ------           --------------  -----         \n",
      " 0   uid              59 non-null     object        \n",
      " 1   labname          59 non-null     object        \n",
      " 2   first_commit_ts  59 non-null     datetime64[ns]\n",
      " 3   first_view_ts    59 non-null     datetime64[ns]\n",
      "dtypes: datetime64[ns](2), object(2)\n",
      "memory usage: 2.3+ KB\n"
     ]
    }
   ],
   "source": [
    "test.info()"
   ]
  },
  {
   "cell_type": "code",
   "execution_count": 17,
   "id": "565f9be6-798e-4fb5-ba06-43398931d2c0",
   "metadata": {},
   "outputs": [
    {
     "name": "stdout",
     "output_type": "stream",
     "text": [
      "<class 'pandas.core.frame.DataFrame'>\n",
      "Index: 81 entries, 0 to 137\n",
      "Data columns (total 4 columns):\n",
      " #   Column           Non-Null Count  Dtype         \n",
      "---  ------           --------------  -----         \n",
      " 0   uid              81 non-null     object        \n",
      " 1   labname          81 non-null     object        \n",
      " 2   first_commit_ts  81 non-null     datetime64[ns]\n",
      " 3   first_view_ts    81 non-null     datetime64[ns]\n",
      "dtypes: datetime64[ns](2), object(2)\n",
      "memory usage: 3.2+ KB\n"
     ]
    }
   ],
   "source": [
    "control.info()"
   ]
  },
  {
   "cell_type": "code",
   "execution_count": 21,
   "id": "ef1f5846-a5a7-4d8b-8501-fa8dd6757b23",
   "metadata": {},
   "outputs": [
    {
     "data": {
      "text/plain": [
       "81"
      ]
     },
     "execution_count": 21,
     "metadata": {},
     "output_type": "execute_result"
    }
   ],
   "source": [
    "#сохранение\n",
    "control.to_sql('control', conn, if_exists='replace')  # Замена таблицы, если она существует\n",
    "control.to_sql('control', conn, if_exists='replace')"
   ]
  },
  {
   "cell_type": "markdown",
   "id": "ef2b4b29-7ed9-4276-be2d-2a697b09350d",
   "metadata": {},
   "source": [
    "<h2>Закрытие соединения</h2>"
   ]
  },
  {
   "cell_type": "code",
   "execution_count": 19,
   "id": "6fb5c48c-918f-414d-9e09-abeb0be168aa",
   "metadata": {},
   "outputs": [],
   "source": [
    "conn.close()"
   ]
  }
 ],
 "metadata": {
  "kernelspec": {
   "display_name": "base",
   "language": "python",
   "name": "python3"
  },
  "language_info": {
   "codemirror_mode": {
    "name": "ipython",
    "version": 3
   },
   "file_extension": ".py",
   "mimetype": "text/x-python",
   "name": "python",
   "nbconvert_exporter": "python",
   "pygments_lexer": "ipython3",
   "version": "3.12.7"
  }
 },
 "nbformat": 4,
 "nbformat_minor": 5
}
