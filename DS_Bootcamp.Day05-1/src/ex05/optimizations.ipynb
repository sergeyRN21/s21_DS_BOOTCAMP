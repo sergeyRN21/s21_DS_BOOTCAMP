{
 "cells": [
  {
   "cell_type": "code",
   "execution_count": 1,
   "id": "30fab531-1a4a-432d-b7a8-735acfbeb9ce",
   "metadata": {},
   "outputs": [],
   "source": [
    "import pandas as pd\n",
    "import gc"
   ]
  },
  {
   "cell_type": "markdown",
   "id": "af7fe16d-4146-476b-8141-7c354c4d0bc7",
   "metadata": {},
   "source": [
    "<h2>Прочитайте файл fines.csv, который вы сохранили в предыдущем упражнении</h2>"
   ]
  },
  {
   "cell_type": "code",
   "execution_count": 2,
   "id": "df84d1ac-115f-4482-9da7-3a7c1477d2a5",
   "metadata": {},
   "outputs": [
    {
     "data": {
      "text/html": [
       "<div>\n",
       "<style scoped>\n",
       "    .dataframe tbody tr th:only-of-type {\n",
       "        vertical-align: middle;\n",
       "    }\n",
       "\n",
       "    .dataframe tbody tr th {\n",
       "        vertical-align: top;\n",
       "    }\n",
       "\n",
       "    .dataframe thead th {\n",
       "        text-align: right;\n",
       "    }\n",
       "</style>\n",
       "<table border=\"1\" class=\"dataframe\">\n",
       "  <thead>\n",
       "    <tr style=\"text-align: right;\">\n",
       "      <th></th>\n",
       "      <th>CarNumber</th>\n",
       "      <th>Refund</th>\n",
       "      <th>Fines</th>\n",
       "      <th>Mark</th>\n",
       "      <th>Model</th>\n",
       "      <th>Year</th>\n",
       "    </tr>\n",
       "  </thead>\n",
       "  <tbody>\n",
       "    <tr>\n",
       "      <th>0</th>\n",
       "      <td>Y163O8161RUS</td>\n",
       "      <td>2</td>\n",
       "      <td>3200.0</td>\n",
       "      <td>Ford</td>\n",
       "      <td>Focus</td>\n",
       "      <td>1989</td>\n",
       "    </tr>\n",
       "    <tr>\n",
       "      <th>1</th>\n",
       "      <td>E432XX77RUS</td>\n",
       "      <td>1</td>\n",
       "      <td>6500.0</td>\n",
       "      <td>Toyota</td>\n",
       "      <td>Camry</td>\n",
       "      <td>1995</td>\n",
       "    </tr>\n",
       "    <tr>\n",
       "      <th>2</th>\n",
       "      <td>7184TT36RUS</td>\n",
       "      <td>1</td>\n",
       "      <td>2100.0</td>\n",
       "      <td>Ford</td>\n",
       "      <td>Focus</td>\n",
       "      <td>1984</td>\n",
       "    </tr>\n",
       "    <tr>\n",
       "      <th>3</th>\n",
       "      <td>X582HE161RUS</td>\n",
       "      <td>2</td>\n",
       "      <td>2000.0</td>\n",
       "      <td>Ford</td>\n",
       "      <td>Focus</td>\n",
       "      <td>2015</td>\n",
       "    </tr>\n",
       "    <tr>\n",
       "      <th>4</th>\n",
       "      <td>92918M178RUS</td>\n",
       "      <td>1</td>\n",
       "      <td>5700.0</td>\n",
       "      <td>Ford</td>\n",
       "      <td>Focus</td>\n",
       "      <td>2014</td>\n",
       "    </tr>\n",
       "    <tr>\n",
       "      <th>...</th>\n",
       "      <td>...</td>\n",
       "      <td>...</td>\n",
       "      <td>...</td>\n",
       "      <td>...</td>\n",
       "      <td>...</td>\n",
       "      <td>...</td>\n",
       "    </tr>\n",
       "    <tr>\n",
       "      <th>920</th>\n",
       "      <td>8182XX154RUS</td>\n",
       "      <td>2</td>\n",
       "      <td>3500.0</td>\n",
       "      <td>Ford</td>\n",
       "      <td>Focus</td>\n",
       "      <td>1996</td>\n",
       "    </tr>\n",
       "    <tr>\n",
       "      <th>921</th>\n",
       "      <td>X796TH96RUS</td>\n",
       "      <td>1</td>\n",
       "      <td>4200.0</td>\n",
       "      <td>Ford</td>\n",
       "      <td>Focus</td>\n",
       "      <td>2002</td>\n",
       "    </tr>\n",
       "    <tr>\n",
       "      <th>922</th>\n",
       "      <td>T011MY163RUS</td>\n",
       "      <td>2</td>\n",
       "      <td>3000.0</td>\n",
       "      <td>Ford</td>\n",
       "      <td>Focus</td>\n",
       "      <td>1996</td>\n",
       "    </tr>\n",
       "    <tr>\n",
       "      <th>923</th>\n",
       "      <td>T341CC96RUS</td>\n",
       "      <td>1</td>\n",
       "      <td>7800.0</td>\n",
       "      <td>Volkswagen</td>\n",
       "      <td>Passat</td>\n",
       "      <td>2012</td>\n",
       "    </tr>\n",
       "    <tr>\n",
       "      <th>924</th>\n",
       "      <td>T119CT96RUS</td>\n",
       "      <td>2</td>\n",
       "      <td>19500.0</td>\n",
       "      <td>Ford</td>\n",
       "      <td>Focus</td>\n",
       "      <td>1984</td>\n",
       "    </tr>\n",
       "  </tbody>\n",
       "</table>\n",
       "<p>925 rows × 6 columns</p>\n",
       "</div>"
      ],
      "text/plain": [
       "        CarNumber  Refund    Fines        Mark   Model  Year\n",
       "0    Y163O8161RUS       2   3200.0        Ford   Focus  1989\n",
       "1     E432XX77RUS       1   6500.0      Toyota   Camry  1995\n",
       "2     7184TT36RUS       1   2100.0        Ford   Focus  1984\n",
       "3    X582HE161RUS       2   2000.0        Ford   Focus  2015\n",
       "4    92918M178RUS       1   5700.0        Ford   Focus  2014\n",
       "..            ...     ...      ...         ...     ...   ...\n",
       "920  8182XX154RUS       2   3500.0        Ford   Focus  1996\n",
       "921   X796TH96RUS       1   4200.0        Ford   Focus  2002\n",
       "922  T011MY163RUS       2   3000.0        Ford   Focus  1996\n",
       "923   T341CC96RUS       1   7800.0  Volkswagen  Passat  2012\n",
       "924   T119CT96RUS       2  19500.0        Ford   Focus  1984\n",
       "\n",
       "[925 rows x 6 columns]"
      ]
     },
     "execution_count": 2,
     "metadata": {},
     "output_type": "execute_result"
    }
   ],
   "source": [
    "df = pd.read_csv('../data/fines.csv')\n",
    "df"
   ]
  },
  {
   "cell_type": "markdown",
   "id": "46c8e3f9-9adf-42f1-9042-2dc4c21b70bc",
   "metadata": {},
   "source": [
    "<h2>Итерации: во всех следующих подзадачах вам нужно вычислить штрафы/возврат*год для каждой строки и создать новый столбец с вычисленными данными, а также измерить время с помощью магической команды %%timeit в ячейке</h2>"
   ]
  },
  {
   "cell_type": "code",
   "execution_count": 3,
   "id": "f0dbd996-d79e-411f-afa9-9dd58dc3d416",
   "metadata": {},
   "outputs": [],
   "source": [
    "#loop\n",
    "def loop(df):\n",
    "    res=[]\n",
    "    for i in range(0, len(df)):\n",
    "        res.append(df.iloc[i]['Fines'] / df.iloc[i]['Refund'] * df.iloc[i]['Year'])\n",
    "    df['Calculated'] = res"
   ]
  },
  {
   "cell_type": "code",
   "execution_count": 4,
   "id": "5e18ecf4-9d0a-42f3-97a4-6adc165df787",
   "metadata": {},
   "outputs": [
    {
     "name": "stdout",
     "output_type": "stream",
     "text": [
      "66.9 ms ± 1.03 ms per loop (mean ± std. dev. of 7 runs, 10 loops each)\n"
     ]
    }
   ],
   "source": [
    "%%timeit\n",
    "loop(df)\n",
    "df"
   ]
  },
  {
   "cell_type": "code",
   "execution_count": 5,
   "id": "c11aae74-3acb-405f-85a7-6664f3333b33",
   "metadata": {},
   "outputs": [],
   "source": [
    "#iter\n",
    "def iter(df):\n",
    "    res=[]\n",
    "    for _, row in df.iterrows():\n",
    "        res.append(row['Fines'] / row['Refund'] * row['Year'])\n",
    "    df['Calculated'] = res"
   ]
  },
  {
   "cell_type": "code",
   "execution_count": 6,
   "id": "d37baf27-ffd8-4c00-bf0b-92079a71d253",
   "metadata": {},
   "outputs": [
    {
     "name": "stdout",
     "output_type": "stream",
     "text": [
      "20.9 ms ± 774 μs per loop (mean ± std. dev. of 7 runs, 10 loops each)\n"
     ]
    }
   ],
   "source": [
    "%%timeit\n",
    "iter(df)\n",
    "df"
   ]
  },
  {
   "cell_type": "code",
   "execution_count": 7,
   "id": "3dcc53cd-3cb2-4765-906d-a5ce5a8f568c",
   "metadata": {},
   "outputs": [],
   "source": [
    "#apply and lambda\n",
    "def apply_and_lambda(df):\n",
    "    df['Calculated'] = df.apply(lambda x: x['Fines'] / x['Refund'] * x['Year'], axis=1)\n"
   ]
  },
  {
   "cell_type": "code",
   "execution_count": 8,
   "id": "86352e31-6e69-42ab-b767-69db3a9baf78",
   "metadata": {},
   "outputs": [
    {
     "name": "stdout",
     "output_type": "stream",
     "text": [
      "5.23 ms ± 48.5 μs per loop (mean ± std. dev. of 7 runs, 100 loops each)\n"
     ]
    }
   ],
   "source": [
    "%%timeit\n",
    "apply_and_lambda(df)\n",
    "df"
   ]
  },
  {
   "cell_type": "code",
   "execution_count": 9,
   "id": "9b9ccb1b-82a9-4b87-aee1-1b0c3acb4306",
   "metadata": {},
   "outputs": [],
   "source": [
    "#series\n",
    "def series(df):\n",
    "    df['Calculated'] = df['Fines'] / df['Refund'] * df['Year']"
   ]
  },
  {
   "cell_type": "code",
   "execution_count": 10,
   "id": "0203e36d-c296-4a54-8738-3939c0948b88",
   "metadata": {},
   "outputs": [
    {
     "name": "stdout",
     "output_type": "stream",
     "text": [
      "126 μs ± 1.59 μs per loop (mean ± std. dev. of 7 runs, 10,000 loops each)\n"
     ]
    }
   ],
   "source": [
    "%%timeit\n",
    "series(df)\n",
    "df"
   ]
  },
  {
   "cell_type": "code",
   "execution_count": 11,
   "id": "778796d8-4ceb-4756-a111-9405723e31ea",
   "metadata": {},
   "outputs": [],
   "source": [
    "#series + метод values()\n",
    "def series_and_values(df):\n",
    "    df['Calculated'] = df['Fines'].values / df['Refund'].values * df['Year'].values"
   ]
  },
  {
   "cell_type": "code",
   "execution_count": 12,
   "id": "0e96cdd9-1209-4458-96ef-ae549db773cd",
   "metadata": {},
   "outputs": [
    {
     "name": "stdout",
     "output_type": "stream",
     "text": [
      "56.6 μs ± 638 ns per loop (mean ± std. dev. of 7 runs, 10,000 loops each)\n"
     ]
    }
   ],
   "source": [
    "%%timeit\n",
    "series_and_values(df)\n",
    "df"
   ]
  },
  {
   "cell_type": "markdown",
   "id": "daad3d34-e6f7-4e1d-8058-9da7671ccf4c",
   "metadata": {},
   "source": [
    "<h2>Индексирование: измерьте время с помощью волшебной команды %%timeit в ячейке</h2>"
   ]
  },
  {
   "cell_type": "markdown",
   "id": "757b51ef-775e-4d4a-9ffa-82a8a84f6016",
   "metadata": {},
   "source": [
    "получить строку для конкретного номера автомобиля, например, «O136HO197RUS»"
   ]
  },
  {
   "cell_type": "code",
   "execution_count": 13,
   "id": "dea82c1e-ff08-4ea9-89e1-cf68986c25bb",
   "metadata": {},
   "outputs": [
    {
     "name": "stdout",
     "output_type": "stream",
     "text": [
      "167 μs ± 1.19 μs per loop (mean ± std. dev. of 7 runs, 10,000 loops each)\n"
     ]
    }
   ],
   "source": [
    "%%timeit\n",
    "df.loc[df['CarNumber'] == 'O136HO197RUS']"
   ]
  },
  {
   "cell_type": "markdown",
   "id": "63af7be6-1cc8-4f8d-bb12-3c3a2d9395c6",
   "metadata": {},
   "source": [
    "установите индекс в вашем фрейме данных с помощью CarNumber"
   ]
  },
  {
   "cell_type": "code",
   "execution_count": 14,
   "id": "d7b3d712-2286-4070-8b05-ca52c923b30d",
   "metadata": {},
   "outputs": [
    {
     "data": {
      "text/html": [
       "<div>\n",
       "<style scoped>\n",
       "    .dataframe tbody tr th:only-of-type {\n",
       "        vertical-align: middle;\n",
       "    }\n",
       "\n",
       "    .dataframe tbody tr th {\n",
       "        vertical-align: top;\n",
       "    }\n",
       "\n",
       "    .dataframe thead th {\n",
       "        text-align: right;\n",
       "    }\n",
       "</style>\n",
       "<table border=\"1\" class=\"dataframe\">\n",
       "  <thead>\n",
       "    <tr style=\"text-align: right;\">\n",
       "      <th></th>\n",
       "      <th>Refund</th>\n",
       "      <th>Fines</th>\n",
       "      <th>Mark</th>\n",
       "      <th>Model</th>\n",
       "      <th>Year</th>\n",
       "      <th>Calculated</th>\n",
       "    </tr>\n",
       "    <tr>\n",
       "      <th>CarNumber</th>\n",
       "      <th></th>\n",
       "      <th></th>\n",
       "      <th></th>\n",
       "      <th></th>\n",
       "      <th></th>\n",
       "      <th></th>\n",
       "    </tr>\n",
       "  </thead>\n",
       "  <tbody>\n",
       "    <tr>\n",
       "      <th>Y163O8161RUS</th>\n",
       "      <td>2</td>\n",
       "      <td>3200.0</td>\n",
       "      <td>Ford</td>\n",
       "      <td>Focus</td>\n",
       "      <td>1989</td>\n",
       "      <td>3182400.0</td>\n",
       "    </tr>\n",
       "    <tr>\n",
       "      <th>E432XX77RUS</th>\n",
       "      <td>1</td>\n",
       "      <td>6500.0</td>\n",
       "      <td>Toyota</td>\n",
       "      <td>Camry</td>\n",
       "      <td>1995</td>\n",
       "      <td>12967500.0</td>\n",
       "    </tr>\n",
       "    <tr>\n",
       "      <th>7184TT36RUS</th>\n",
       "      <td>1</td>\n",
       "      <td>2100.0</td>\n",
       "      <td>Ford</td>\n",
       "      <td>Focus</td>\n",
       "      <td>1984</td>\n",
       "      <td>4166400.0</td>\n",
       "    </tr>\n",
       "    <tr>\n",
       "      <th>X582HE161RUS</th>\n",
       "      <td>2</td>\n",
       "      <td>2000.0</td>\n",
       "      <td>Ford</td>\n",
       "      <td>Focus</td>\n",
       "      <td>2015</td>\n",
       "      <td>2015000.0</td>\n",
       "    </tr>\n",
       "    <tr>\n",
       "      <th>92918M178RUS</th>\n",
       "      <td>1</td>\n",
       "      <td>5700.0</td>\n",
       "      <td>Ford</td>\n",
       "      <td>Focus</td>\n",
       "      <td>2014</td>\n",
       "      <td>11479800.0</td>\n",
       "    </tr>\n",
       "    <tr>\n",
       "      <th>...</th>\n",
       "      <td>...</td>\n",
       "      <td>...</td>\n",
       "      <td>...</td>\n",
       "      <td>...</td>\n",
       "      <td>...</td>\n",
       "      <td>...</td>\n",
       "    </tr>\n",
       "    <tr>\n",
       "      <th>8182XX154RUS</th>\n",
       "      <td>2</td>\n",
       "      <td>3500.0</td>\n",
       "      <td>Ford</td>\n",
       "      <td>Focus</td>\n",
       "      <td>1996</td>\n",
       "      <td>3493000.0</td>\n",
       "    </tr>\n",
       "    <tr>\n",
       "      <th>X796TH96RUS</th>\n",
       "      <td>1</td>\n",
       "      <td>4200.0</td>\n",
       "      <td>Ford</td>\n",
       "      <td>Focus</td>\n",
       "      <td>2002</td>\n",
       "      <td>8408400.0</td>\n",
       "    </tr>\n",
       "    <tr>\n",
       "      <th>T011MY163RUS</th>\n",
       "      <td>2</td>\n",
       "      <td>3000.0</td>\n",
       "      <td>Ford</td>\n",
       "      <td>Focus</td>\n",
       "      <td>1996</td>\n",
       "      <td>2994000.0</td>\n",
       "    </tr>\n",
       "    <tr>\n",
       "      <th>T341CC96RUS</th>\n",
       "      <td>1</td>\n",
       "      <td>7800.0</td>\n",
       "      <td>Volkswagen</td>\n",
       "      <td>Passat</td>\n",
       "      <td>2012</td>\n",
       "      <td>15693600.0</td>\n",
       "    </tr>\n",
       "    <tr>\n",
       "      <th>T119CT96RUS</th>\n",
       "      <td>2</td>\n",
       "      <td>19500.0</td>\n",
       "      <td>Ford</td>\n",
       "      <td>Focus</td>\n",
       "      <td>1984</td>\n",
       "      <td>19344000.0</td>\n",
       "    </tr>\n",
       "  </tbody>\n",
       "</table>\n",
       "<p>925 rows × 6 columns</p>\n",
       "</div>"
      ],
      "text/plain": [
       "              Refund    Fines        Mark   Model  Year  Calculated\n",
       "CarNumber                                                          \n",
       "Y163O8161RUS       2   3200.0        Ford   Focus  1989   3182400.0\n",
       "E432XX77RUS        1   6500.0      Toyota   Camry  1995  12967500.0\n",
       "7184TT36RUS        1   2100.0        Ford   Focus  1984   4166400.0\n",
       "X582HE161RUS       2   2000.0        Ford   Focus  2015   2015000.0\n",
       "92918M178RUS       1   5700.0        Ford   Focus  2014  11479800.0\n",
       "...              ...      ...         ...     ...   ...         ...\n",
       "8182XX154RUS       2   3500.0        Ford   Focus  1996   3493000.0\n",
       "X796TH96RUS        1   4200.0        Ford   Focus  2002   8408400.0\n",
       "T011MY163RUS       2   3000.0        Ford   Focus  1996   2994000.0\n",
       "T341CC96RUS        1   7800.0  Volkswagen  Passat  2012  15693600.0\n",
       "T119CT96RUS        2  19500.0        Ford   Focus  1984  19344000.0\n",
       "\n",
       "[925 rows x 6 columns]"
      ]
     },
     "execution_count": 14,
     "metadata": {},
     "output_type": "execute_result"
    }
   ],
   "source": [
    "df.set_index('CarNumber', inplace=True)\n",
    "df"
   ]
  },
  {
   "cell_type": "markdown",
   "id": "170f159d-9356-420e-b607-8cc1bf188e09",
   "metadata": {},
   "source": [
    "опять же, получите строку с тем же номером"
   ]
  },
  {
   "cell_type": "code",
   "execution_count": 15,
   "id": "e18798fe-01e0-45fe-99eb-e476c1eaac27",
   "metadata": {},
   "outputs": [
    {
     "name": "stdout",
     "output_type": "stream",
     "text": [
      "120 μs ± 1.16 μs per loop (mean ± std. dev. of 7 runs, 10,000 loops each)\n"
     ]
    }
   ],
   "source": [
    "%%timeit\n",
    "df.loc[df.index == 'O136HO197RUS']"
   ]
  },
  {
   "cell_type": "markdown",
   "id": "8dc0ca9c-e78d-45c0-88b3-731a8f98749b",
   "metadata": {},
   "source": [
    "<h2>Понижающий коэффициент</h2>"
   ]
  },
  {
   "cell_type": "code",
   "execution_count": 16,
   "id": "b1425c09-d781-4731-b5f3-e42b11a35794",
   "metadata": {},
   "outputs": [
    {
     "name": "stdout",
     "output_type": "stream",
     "text": [
      "<class 'pandas.core.frame.DataFrame'>\n",
      "Index: 925 entries, Y163O8161RUS to T119CT96RUS\n",
      "Data columns (total 6 columns):\n",
      " #   Column      Non-Null Count  Dtype  \n",
      "---  ------      --------------  -----  \n",
      " 0   Refund      925 non-null    int64  \n",
      " 1   Fines       925 non-null    float64\n",
      " 2   Mark        925 non-null    object \n",
      " 3   Model       914 non-null    object \n",
      " 4   Year        925 non-null    int64  \n",
      " 5   Calculated  925 non-null    float64\n",
      "dtypes: float64(2), int64(2), object(2)\n",
      "memory usage: 181.0 KB\n"
     ]
    }
   ],
   "source": [
    "#запустите df.info(memory_usage=’deep’), обратите внимание на тип данных и использование памяти\n",
    "df.info(memory_usage='deep')"
   ]
  },
  {
   "cell_type": "code",
   "execution_count": 17,
   "id": "10fff711-e826-4484-9e76-682d72f8271e",
   "metadata": {},
   "outputs": [
    {
     "data": {
      "text/html": [
       "<div>\n",
       "<style scoped>\n",
       "    .dataframe tbody tr th:only-of-type {\n",
       "        vertical-align: middle;\n",
       "    }\n",
       "\n",
       "    .dataframe tbody tr th {\n",
       "        vertical-align: top;\n",
       "    }\n",
       "\n",
       "    .dataframe thead th {\n",
       "        text-align: right;\n",
       "    }\n",
       "</style>\n",
       "<table border=\"1\" class=\"dataframe\">\n",
       "  <thead>\n",
       "    <tr style=\"text-align: right;\">\n",
       "      <th></th>\n",
       "      <th>Refund</th>\n",
       "      <th>Fines</th>\n",
       "      <th>Mark</th>\n",
       "      <th>Model</th>\n",
       "      <th>Year</th>\n",
       "      <th>Calculated</th>\n",
       "    </tr>\n",
       "    <tr>\n",
       "      <th>CarNumber</th>\n",
       "      <th></th>\n",
       "      <th></th>\n",
       "      <th></th>\n",
       "      <th></th>\n",
       "      <th></th>\n",
       "      <th></th>\n",
       "    </tr>\n",
       "  </thead>\n",
       "  <tbody>\n",
       "    <tr>\n",
       "      <th>Y163O8161RUS</th>\n",
       "      <td>2</td>\n",
       "      <td>3200.0</td>\n",
       "      <td>Ford</td>\n",
       "      <td>Focus</td>\n",
       "      <td>1989</td>\n",
       "      <td>3182400.0</td>\n",
       "    </tr>\n",
       "    <tr>\n",
       "      <th>E432XX77RUS</th>\n",
       "      <td>1</td>\n",
       "      <td>6500.0</td>\n",
       "      <td>Toyota</td>\n",
       "      <td>Camry</td>\n",
       "      <td>1995</td>\n",
       "      <td>12967500.0</td>\n",
       "    </tr>\n",
       "    <tr>\n",
       "      <th>7184TT36RUS</th>\n",
       "      <td>1</td>\n",
       "      <td>2100.0</td>\n",
       "      <td>Ford</td>\n",
       "      <td>Focus</td>\n",
       "      <td>1984</td>\n",
       "      <td>4166400.0</td>\n",
       "    </tr>\n",
       "    <tr>\n",
       "      <th>X582HE161RUS</th>\n",
       "      <td>2</td>\n",
       "      <td>2000.0</td>\n",
       "      <td>Ford</td>\n",
       "      <td>Focus</td>\n",
       "      <td>2015</td>\n",
       "      <td>2015000.0</td>\n",
       "    </tr>\n",
       "    <tr>\n",
       "      <th>92918M178RUS</th>\n",
       "      <td>1</td>\n",
       "      <td>5700.0</td>\n",
       "      <td>Ford</td>\n",
       "      <td>Focus</td>\n",
       "      <td>2014</td>\n",
       "      <td>11479800.0</td>\n",
       "    </tr>\n",
       "    <tr>\n",
       "      <th>...</th>\n",
       "      <td>...</td>\n",
       "      <td>...</td>\n",
       "      <td>...</td>\n",
       "      <td>...</td>\n",
       "      <td>...</td>\n",
       "      <td>...</td>\n",
       "    </tr>\n",
       "    <tr>\n",
       "      <th>8182XX154RUS</th>\n",
       "      <td>2</td>\n",
       "      <td>3500.0</td>\n",
       "      <td>Ford</td>\n",
       "      <td>Focus</td>\n",
       "      <td>1996</td>\n",
       "      <td>3493000.0</td>\n",
       "    </tr>\n",
       "    <tr>\n",
       "      <th>X796TH96RUS</th>\n",
       "      <td>1</td>\n",
       "      <td>4200.0</td>\n",
       "      <td>Ford</td>\n",
       "      <td>Focus</td>\n",
       "      <td>2002</td>\n",
       "      <td>8408400.0</td>\n",
       "    </tr>\n",
       "    <tr>\n",
       "      <th>T011MY163RUS</th>\n",
       "      <td>2</td>\n",
       "      <td>3000.0</td>\n",
       "      <td>Ford</td>\n",
       "      <td>Focus</td>\n",
       "      <td>1996</td>\n",
       "      <td>2994000.0</td>\n",
       "    </tr>\n",
       "    <tr>\n",
       "      <th>T341CC96RUS</th>\n",
       "      <td>1</td>\n",
       "      <td>7800.0</td>\n",
       "      <td>Volkswagen</td>\n",
       "      <td>Passat</td>\n",
       "      <td>2012</td>\n",
       "      <td>15693600.0</td>\n",
       "    </tr>\n",
       "    <tr>\n",
       "      <th>T119CT96RUS</th>\n",
       "      <td>2</td>\n",
       "      <td>19500.0</td>\n",
       "      <td>Ford</td>\n",
       "      <td>Focus</td>\n",
       "      <td>1984</td>\n",
       "      <td>19344000.0</td>\n",
       "    </tr>\n",
       "  </tbody>\n",
       "</table>\n",
       "<p>925 rows × 6 columns</p>\n",
       "</div>"
      ],
      "text/plain": [
       "              Refund    Fines        Mark   Model  Year  Calculated\n",
       "CarNumber                                                          \n",
       "Y163O8161RUS       2   3200.0        Ford   Focus  1989   3182400.0\n",
       "E432XX77RUS        1   6500.0      Toyota   Camry  1995  12967500.0\n",
       "7184TT36RUS        1   2100.0        Ford   Focus  1984   4166400.0\n",
       "X582HE161RUS       2   2000.0        Ford   Focus  2015   2015000.0\n",
       "92918M178RUS       1   5700.0        Ford   Focus  2014  11479800.0\n",
       "...              ...      ...         ...     ...   ...         ...\n",
       "8182XX154RUS       2   3500.0        Ford   Focus  1996   3493000.0\n",
       "X796TH96RUS        1   4200.0        Ford   Focus  2002   8408400.0\n",
       "T011MY163RUS       2   3000.0        Ford   Focus  1996   2994000.0\n",
       "T341CC96RUS        1   7800.0  Volkswagen  Passat  2012  15693600.0\n",
       "T119CT96RUS        2  19500.0        Ford   Focus  1984  19344000.0\n",
       "\n",
       "[925 rows x 6 columns]"
      ]
     },
     "execution_count": 17,
     "metadata": {},
     "output_type": "execute_result"
    }
   ],
   "source": [
    "# Создадим копию исхоного датафрейма\n",
    "df_copy = df.copy()\n",
    "df_copy"
   ]
  },
  {
   "cell_type": "code",
   "execution_count": 18,
   "id": "3350e9b6-beb1-48af-9dcd-7498f1023495",
   "metadata": {},
   "outputs": [
    {
     "name": "stdout",
     "output_type": "stream",
     "text": [
      "<class 'pandas.core.frame.DataFrame'>\n",
      "Index: 925 entries, Y163O8161RUS to T119CT96RUS\n",
      "Data columns (total 6 columns):\n",
      " #   Column      Non-Null Count  Dtype   \n",
      "---  ------      --------------  -----   \n",
      " 0   Refund      925 non-null    uint8   \n",
      " 1   Fines       925 non-null    float32 \n",
      " 2   Mark        925 non-null    category\n",
      " 3   Model       914 non-null    category\n",
      " 4   Year        925 non-null    uint16  \n",
      " 5   Calculated  925 non-null    float64 \n",
      "dtypes: category(2), float32(1), float64(1), uint16(1), uint8(1)\n",
      "memory usage: 71.7 KB\n"
     ]
    }
   ],
   "source": [
    "#другой оптимизированный фрейм данных\n",
    "# Понизим разрядность чисел для снижения потребления памяти          исходное = 202.6 KB\n",
    "df_copy['Refund'] = pd.to_numeric(df_copy['Refund'], downcast='unsigned') # 196.3 KB\n",
    "df_copy['Year'] = pd.to_numeric(df_copy['Year'], downcast='unsigned')     # 190.9 KB\n",
    "df_copy['Fines'] = pd.to_numeric(df_copy['Fines'], downcast='float')     # 187.2 KB\n",
    "df_copy['Calculated'] = pd.to_numeric(df_copy['Calculated'], downcast='float')     # 187.2 KB\n",
    "\n",
    "\n",
    "# objects переведем в category\n",
    "df_copy['Mark'] = df_copy['Mark'].astype('category')        # 133.2 KB\n",
    "df_copy['Model'] = df_copy['Model'].astype('category')      # 79.1 KB\n",
    "df_copy.info(memory_usage='deep')"
   ]
  }
 ],
 "metadata": {
  "kernelspec": {
   "display_name": "base",
   "language": "python",
   "name": "python3"
  },
  "language_info": {
   "codemirror_mode": {
    "name": "ipython",
    "version": 3
   },
   "file_extension": ".py",
   "mimetype": "text/x-python",
   "name": "python",
   "nbconvert_exporter": "python",
   "pygments_lexer": "ipython3",
   "version": "3.12.7"
  }
 },
 "nbformat": 4,
 "nbformat_minor": 5
}
